{
 "cells": [
  {
   "cell_type": "code",
   "execution_count": 242,
   "id": "confidential-fraud",
   "metadata": {},
   "outputs": [],
   "source": [
    "import pymysql\n",
    "import pandas as pd\n",
    "import matplotlib.pyplot as plt\n",
    "import seaborn as sns\n",
    "import numpy as np\n",
    "from sqlalchemy import create_engine\n",
    "%matplotlib inline "
   ]
  },
  {
   "cell_type": "code",
   "execution_count": 3,
   "id": "comparative-wilson",
   "metadata": {},
   "outputs": [],
   "source": [
    "connection = pymysql.connect(host = 'localhost',\n",
    "                            user= 'root',\n",
    "                            password = 'pos99247',\n",
    "                            db = 'mydb')\n",
    "cursor = connection.cursor()"
   ]
  },
  {
   "cell_type": "code",
   "execution_count": 4,
   "id": "raising-paintball",
   "metadata": {},
   "outputs": [
    {
     "data": {
      "text/plain": [
       "379139"
      ]
     },
     "execution_count": 4,
     "metadata": {},
     "output_type": "execute_result"
    }
   ],
   "source": [
    "cursor.execute('''\n",
    "SELECT *\n",
    "FROM wallstreetbets''')"
   ]
  },
  {
   "cell_type": "code",
   "execution_count": 6,
   "id": "arranged-platinum",
   "metadata": {},
   "outputs": [],
   "source": [
    "table_rows = cursor.fetchall()"
   ]
  },
  {
   "cell_type": "code",
   "execution_count": 13,
   "id": "pending-portugal",
   "metadata": {},
   "outputs": [],
   "source": [
    "df = pd.DataFrame(table_rows)"
   ]
  },
  {
   "cell_type": "code",
   "execution_count": 10,
   "id": "usual-court",
   "metadata": {},
   "outputs": [
    {
     "name": "stdout",
     "output_type": "stream",
     "text": [
      "<class 'pandas.core.frame.DataFrame'>\n",
      "RangeIndex: 379139 entries, 0 to 379138\n",
      "Data columns (total 6 columns):\n",
      " #   Column  Non-Null Count   Dtype \n",
      "---  ------  --------------   ----- \n",
      " 0   0       379139 non-null  object\n",
      " 1   1       379139 non-null  int64 \n",
      " 2   2       379139 non-null  object\n",
      " 3   3       379139 non-null  object\n",
      " 4   4       379139 non-null  object\n",
      " 5   5       379139 non-null  object\n",
      "dtypes: int64(1), object(5)\n",
      "memory usage: 17.4+ MB\n"
     ]
    }
   ],
   "source": [
    "df.info()"
   ]
  },
  {
   "cell_type": "code",
   "execution_count": 14,
   "id": "intermediate-little",
   "metadata": {},
   "outputs": [
    {
     "data": {
      "text/html": [
       "<div>\n",
       "<style scoped>\n",
       "    .dataframe tbody tr th:only-of-type {\n",
       "        vertical-align: middle;\n",
       "    }\n",
       "\n",
       "    .dataframe tbody tr th {\n",
       "        vertical-align: top;\n",
       "    }\n",
       "\n",
       "    .dataframe thead th {\n",
       "        text-align: right;\n",
       "    }\n",
       "</style>\n",
       "<table border=\"1\" class=\"dataframe\">\n",
       "  <thead>\n",
       "    <tr style=\"text-align: right;\">\n",
       "      <th></th>\n",
       "      <th>0</th>\n",
       "      <th>1</th>\n",
       "      <th>2</th>\n",
       "      <th>3</th>\n",
       "      <th>4</th>\n",
       "      <th>5</th>\n",
       "    </tr>\n",
       "  </thead>\n",
       "  <tbody>\n",
       "    <tr>\n",
       "      <th>0</th>\n",
       "      <td>afrankiewicz12</td>\n",
       "      <td>1</td>\n",
       "      <td></td>\n",
       "      <td>2021-02-09T08:01:01</td>\n",
       "      <td>Did anyone know you can view daily short volum...</td>\n",
       "      <td>ftp://ftp.nasdaqtrader.com/files/shortsaledata...</td>\n",
       "    </tr>\n",
       "    <tr>\n",
       "      <th>1</th>\n",
       "      <td>Krackis</td>\n",
       "      <td>1</td>\n",
       "      <td></td>\n",
       "      <td>2021-02-02T08:23:51</td>\n",
       "      <td>NYSE short circuit breaker report Showing $GME...</td>\n",
       "      <td>ftp://ftp.nyxdata.com/NYSEGroupSSRCircuitBreak...</td>\n",
       "    </tr>\n",
       "    <tr>\n",
       "      <th>2</th>\n",
       "      <td>[deleted]</td>\n",
       "      <td>1</td>\n",
       "      <td>[deleted]</td>\n",
       "      <td>2021-02-02T09:18:56</td>\n",
       "      <td>NYSE puts GME on Short Sale Restriction List, ...</td>\n",
       "      <td>ftp://ftp.nyxdata.com/NYSEGroupSSRCircuitBreak...</td>\n",
       "    </tr>\n",
       "    <tr>\n",
       "      <th>3</th>\n",
       "      <td>SolAureusAstra</td>\n",
       "      <td>3</td>\n",
       "      <td></td>\n",
       "      <td>2021-02-02T08:02:11</td>\n",
       "      <td>GME has been put on the NYSE Short Sale Circui...</td>\n",
       "      <td>ftp://ftp.nyxdata.com/NYSEGroupSSRCircuitBreak...</td>\n",
       "    </tr>\n",
       "    <tr>\n",
       "      <th>4</th>\n",
       "      <td>narengan</td>\n",
       "      <td>1</td>\n",
       "      <td></td>\n",
       "      <td>2021-02-26T01:57:25</td>\n",
       "      <td>SSR List 25-02-2021 AMC ✅ GME ❌</td>\n",
       "      <td>ftp://ftp.nyxdata.com/NYSEGroupSSRCircuitBreak...</td>\n",
       "    </tr>\n",
       "  </tbody>\n",
       "</table>\n",
       "</div>"
      ],
      "text/plain": [
       "                0  1          2                    3  \\\n",
       "0  afrankiewicz12  1             2021-02-09T08:01:01   \n",
       "1         Krackis  1             2021-02-02T08:23:51   \n",
       "2       [deleted]  1  [deleted]  2021-02-02T09:18:56   \n",
       "3  SolAureusAstra  3             2021-02-02T08:02:11   \n",
       "4        narengan  1             2021-02-26T01:57:25   \n",
       "\n",
       "                                                   4  \\\n",
       "0  Did anyone know you can view daily short volum...   \n",
       "1  NYSE short circuit breaker report Showing $GME...   \n",
       "2  NYSE puts GME on Short Sale Restriction List, ...   \n",
       "3  GME has been put on the NYSE Short Sale Circui...   \n",
       "4                    SSR List 25-02-2021 AMC ✅ GME ❌   \n",
       "\n",
       "                                                   5  \n",
       "0  ftp://ftp.nasdaqtrader.com/files/shortsaledata...  \n",
       "1  ftp://ftp.nyxdata.com/NYSEGroupSSRCircuitBreak...  \n",
       "2  ftp://ftp.nyxdata.com/NYSEGroupSSRCircuitBreak...  \n",
       "3  ftp://ftp.nyxdata.com/NYSEGroupSSRCircuitBreak...  \n",
       "4  ftp://ftp.nyxdata.com/NYSEGroupSSRCircuitBreak...  "
      ]
     },
     "execution_count": 14,
     "metadata": {},
     "output_type": "execute_result"
    }
   ],
   "source": [
    "df.head(5)"
   ]
  },
  {
   "cell_type": "code",
   "execution_count": 18,
   "id": "tender-spending",
   "metadata": {},
   "outputs": [
    {
     "data": {
      "text/html": [
       "<div>\n",
       "<style scoped>\n",
       "    .dataframe tbody tr th:only-of-type {\n",
       "        vertical-align: middle;\n",
       "    }\n",
       "\n",
       "    .dataframe tbody tr th {\n",
       "        vertical-align: top;\n",
       "    }\n",
       "\n",
       "    .dataframe thead th {\n",
       "        text-align: right;\n",
       "    }\n",
       "</style>\n",
       "<table border=\"1\" class=\"dataframe\">\n",
       "  <thead>\n",
       "    <tr style=\"text-align: right;\">\n",
       "      <th></th>\n",
       "      <th>0</th>\n",
       "      <th>1</th>\n",
       "      <th>2</th>\n",
       "      <th>3</th>\n",
       "      <th>4</th>\n",
       "      <th>5</th>\n",
       "    </tr>\n",
       "  </thead>\n",
       "  <tbody>\n",
       "    <tr>\n",
       "      <th>322302</th>\n",
       "      <td>Jweeds_420</td>\n",
       "      <td>1</td>\n",
       "      <td>Hey everyone, I’m so happy to finally be getti...</td>\n",
       "      <td>2021-03-02T13:16:48</td>\n",
       "      <td>New to trading!</td>\n",
       "      <td>https://www.reddit.com/r/wallstreetbets/commen...</td>\n",
       "    </tr>\n",
       "    <tr>\n",
       "      <th>287647</th>\n",
       "      <td>Traditional_Mode8480</td>\n",
       "      <td>1</td>\n",
       "      <td>[removed]</td>\n",
       "      <td>2021-02-14T14:07:10</td>\n",
       "      <td>Butterfly IPO</td>\n",
       "      <td>https://www.reddit.com/r/wallstreetbets/commen...</td>\n",
       "    </tr>\n",
       "    <tr>\n",
       "      <th>231687</th>\n",
       "      <td>lovecoley</td>\n",
       "      <td>1</td>\n",
       "      <td>[removed]</td>\n",
       "      <td>2021-02-03T10:12:38</td>\n",
       "      <td>I still have not been able to buy and I know t...</td>\n",
       "      <td>https://www.reddit.com/r/wallstreetbets/commen...</td>\n",
       "    </tr>\n",
       "    <tr>\n",
       "      <th>317126</th>\n",
       "      <td>ughlacrossereally</td>\n",
       "      <td>3</td>\n",
       "      <td>[removed]</td>\n",
       "      <td>2021-02-26T08:03:19</td>\n",
       "      <td>are you going to watch the movie?</td>\n",
       "      <td>https://www.reddit.com/r/wallstreetbets/commen...</td>\n",
       "    </tr>\n",
       "    <tr>\n",
       "      <th>150650</th>\n",
       "      <td>Zino82</td>\n",
       "      <td>1</td>\n",
       "      <td></td>\n",
       "      <td>2021-03-09T14:28:49</td>\n",
       "      <td>We're going full Gump from here on out</td>\n",
       "      <td>https://v.redd.it/9omd308ow2m61</td>\n",
       "    </tr>\n",
       "  </tbody>\n",
       "</table>\n",
       "</div>"
      ],
      "text/plain": [
       "                           0  1  \\\n",
       "322302            Jweeds_420  1   \n",
       "287647  Traditional_Mode8480  1   \n",
       "231687             lovecoley  1   \n",
       "317126     ughlacrossereally  3   \n",
       "150650                Zino82  1   \n",
       "\n",
       "                                                        2  \\\n",
       "322302  Hey everyone, I’m so happy to finally be getti...   \n",
       "287647                                          [removed]   \n",
       "231687                                          [removed]   \n",
       "317126                                          [removed]   \n",
       "150650                                                      \n",
       "\n",
       "                          3  \\\n",
       "322302  2021-03-02T13:16:48   \n",
       "287647  2021-02-14T14:07:10   \n",
       "231687  2021-02-03T10:12:38   \n",
       "317126  2021-02-26T08:03:19   \n",
       "150650  2021-03-09T14:28:49   \n",
       "\n",
       "                                                        4  \\\n",
       "322302                                    New to trading!   \n",
       "287647                                      Butterfly IPO   \n",
       "231687  I still have not been able to buy and I know t...   \n",
       "317126                  are you going to watch the movie?   \n",
       "150650             We're going full Gump from here on out   \n",
       "\n",
       "                                                        5  \n",
       "322302  https://www.reddit.com/r/wallstreetbets/commen...  \n",
       "287647  https://www.reddit.com/r/wallstreetbets/commen...  \n",
       "231687  https://www.reddit.com/r/wallstreetbets/commen...  \n",
       "317126  https://www.reddit.com/r/wallstreetbets/commen...  \n",
       "150650                    https://v.redd.it/9omd308ow2m61  "
      ]
     },
     "execution_count": 18,
     "metadata": {},
     "output_type": "execute_result"
    }
   ],
   "source": [
    "df.sample(5)"
   ]
  },
  {
   "cell_type": "code",
   "execution_count": null,
   "id": "afraid-sperm",
   "metadata": {},
   "outputs": [],
   "source": [
    "time, author, title, score, selftext, url"
   ]
  },
  {
   "cell_type": "code",
   "execution_count": 20,
   "id": "august-consensus",
   "metadata": {},
   "outputs": [],
   "source": [
    "df.columns = ['author', 'score', 'selftext', 'time', 'title', 'url']"
   ]
  },
  {
   "cell_type": "code",
   "execution_count": 36,
   "id": "considerable-invention",
   "metadata": {},
   "outputs": [
    {
     "data": {
      "text/html": [
       "<div>\n",
       "<style scoped>\n",
       "    .dataframe tbody tr th:only-of-type {\n",
       "        vertical-align: middle;\n",
       "    }\n",
       "\n",
       "    .dataframe tbody tr th {\n",
       "        vertical-align: top;\n",
       "    }\n",
       "\n",
       "    .dataframe thead th {\n",
       "        text-align: right;\n",
       "    }\n",
       "</style>\n",
       "<table border=\"1\" class=\"dataframe\">\n",
       "  <thead>\n",
       "    <tr style=\"text-align: right;\">\n",
       "      <th></th>\n",
       "      <th>author</th>\n",
       "      <th>score</th>\n",
       "      <th>selftext</th>\n",
       "      <th>time</th>\n",
       "      <th>title</th>\n",
       "      <th>url</th>\n",
       "    </tr>\n",
       "  </thead>\n",
       "  <tbody>\n",
       "    <tr>\n",
       "      <th>176530</th>\n",
       "      <td>cluttso</td>\n",
       "      <td>1</td>\n",
       "      <td>[removed]</td>\n",
       "      <td>2021-02-01T11:04:54</td>\n",
       "      <td>SNDL</td>\n",
       "      <td>https://www.reddit.com/r/wallstreetbets/commen...</td>\n",
       "    </tr>\n",
       "    <tr>\n",
       "      <th>176529</th>\n",
       "      <td>DiscussionUnusual466</td>\n",
       "      <td>1</td>\n",
       "      <td>[removed]</td>\n",
       "      <td>2021-02-01T11:04:53</td>\n",
       "      <td>\"Most hedge funds fail: their average life spa...</td>\n",
       "      <td>https://www.reddit.com/r/wallstreetbets/commen...</td>\n",
       "    </tr>\n",
       "    <tr>\n",
       "      <th>176528</th>\n",
       "      <td>[deleted]</td>\n",
       "      <td>0</td>\n",
       "      <td>[deleted]</td>\n",
       "      <td>2021-02-01T11:04:51</td>\n",
       "      <td>GME and AMC is a dying horse. Anyone still in ...</td>\n",
       "      <td>https://www.reddit.com/r/wallstreetbets/commen...</td>\n",
       "    </tr>\n",
       "    <tr>\n",
       "      <th>33217</th>\n",
       "      <td>Aquemini87</td>\n",
       "      <td>0</td>\n",
       "      <td></td>\n",
       "      <td>2021-02-01T11:04:51</td>\n",
       "      <td>Better Late Than Never! I’m in today!</td>\n",
       "      <td>https://i.redd.it/72ofzbsizwe61.jpg</td>\n",
       "    </tr>\n",
       "    <tr>\n",
       "      <th>156853</th>\n",
       "      <td>[deleted]</td>\n",
       "      <td>3</td>\n",
       "      <td>[deleted]</td>\n",
       "      <td>2021-02-01T11:04:48</td>\n",
       "      <td>I DEVELOPED A AUTISTIC APP TO SEND US TO MOONN...</td>\n",
       "      <td>https://v.redd.it/umhbf4ghzwe61</td>\n",
       "    </tr>\n",
       "  </tbody>\n",
       "</table>\n",
       "</div>"
      ],
      "text/plain": [
       "                      author  score   selftext                 time  \\\n",
       "176530               cluttso      1  [removed]  2021-02-01T11:04:54   \n",
       "176529  DiscussionUnusual466      1  [removed]  2021-02-01T11:04:53   \n",
       "176528             [deleted]      0  [deleted]  2021-02-01T11:04:51   \n",
       "33217             Aquemini87      0             2021-02-01T11:04:51   \n",
       "156853             [deleted]      3  [deleted]  2021-02-01T11:04:48   \n",
       "\n",
       "                                                    title  \\\n",
       "176530                                               SNDL   \n",
       "176529  \"Most hedge funds fail: their average life spa...   \n",
       "176528  GME and AMC is a dying horse. Anyone still in ...   \n",
       "33217               Better Late Than Never! I’m in today!   \n",
       "156853  I DEVELOPED A AUTISTIC APP TO SEND US TO MOONN...   \n",
       "\n",
       "                                                      url  \n",
       "176530  https://www.reddit.com/r/wallstreetbets/commen...  \n",
       "176529  https://www.reddit.com/r/wallstreetbets/commen...  \n",
       "176528  https://www.reddit.com/r/wallstreetbets/commen...  \n",
       "33217                 https://i.redd.it/72ofzbsizwe61.jpg  \n",
       "156853                    https://v.redd.it/umhbf4ghzwe61  "
      ]
     },
     "execution_count": 36,
     "metadata": {},
     "output_type": "execute_result"
    }
   ],
   "source": [
    "df.sort_values(by='time',ascending=False).tail()"
   ]
  },
  {
   "cell_type": "markdown",
   "id": "assured-match",
   "metadata": {},
   "source": [
    "**Change date to date time data type**"
   ]
  },
  {
   "cell_type": "code",
   "execution_count": 37,
   "id": "controlling-rally",
   "metadata": {},
   "outputs": [],
   "source": [
    "df['time'] = pd.to_datetime(df['time'])"
   ]
  },
  {
   "cell_type": "code",
   "execution_count": 41,
   "id": "involved-proposition",
   "metadata": {},
   "outputs": [],
   "source": [
    "df['day_of_week'] = df['time'].dt.day_name()"
   ]
  },
  {
   "cell_type": "markdown",
   "id": "increased-latest",
   "metadata": {},
   "source": [
    "**daily # of submissions**"
   ]
  },
  {
   "cell_type": "code",
   "execution_count": null,
   "id": "diagnostic-sheffield",
   "metadata": {},
   "outputs": [],
   "source": [
    "df['day_of_week'].value_counts()"
   ]
  },
  {
   "cell_type": "markdown",
   "id": "nervous-dealing",
   "metadata": {},
   "source": [
    "**day by day submission**"
   ]
  },
  {
   "cell_type": "code",
   "execution_count": 68,
   "id": "placed-childhood",
   "metadata": {},
   "outputs": [],
   "source": [
    "df['day'] = df['time'].dt.day\n",
    "df['month'] = df['time'].dt.month\n",
    "df['year'] = df['time'].dt.year"
   ]
  },
  {
   "cell_type": "code",
   "execution_count": 69,
   "id": "hawaiian-restaurant",
   "metadata": {},
   "outputs": [
    {
     "data": {
      "text/html": [
       "<div>\n",
       "<style scoped>\n",
       "    .dataframe tbody tr th:only-of-type {\n",
       "        vertical-align: middle;\n",
       "    }\n",
       "\n",
       "    .dataframe tbody tr th {\n",
       "        vertical-align: top;\n",
       "    }\n",
       "\n",
       "    .dataframe thead th {\n",
       "        text-align: right;\n",
       "    }\n",
       "</style>\n",
       "<table border=\"1\" class=\"dataframe\">\n",
       "  <thead>\n",
       "    <tr style=\"text-align: right;\">\n",
       "      <th></th>\n",
       "      <th></th>\n",
       "      <th></th>\n",
       "      <th>title</th>\n",
       "    </tr>\n",
       "    <tr>\n",
       "      <th>year</th>\n",
       "      <th>month</th>\n",
       "      <th>day</th>\n",
       "      <th></th>\n",
       "    </tr>\n",
       "  </thead>\n",
       "  <tbody>\n",
       "    <tr>\n",
       "      <th rowspan=\"11\" valign=\"top\">2021</th>\n",
       "      <th rowspan=\"5\" valign=\"top\">2</th>\n",
       "      <th>1</th>\n",
       "      <td>32744</td>\n",
       "    </tr>\n",
       "    <tr>\n",
       "      <th>2</th>\n",
       "      <td>62179</td>\n",
       "    </tr>\n",
       "    <tr>\n",
       "      <th>3</th>\n",
       "      <td>31256</td>\n",
       "    </tr>\n",
       "    <tr>\n",
       "      <th>4</th>\n",
       "      <td>19132</td>\n",
       "    </tr>\n",
       "    <tr>\n",
       "      <th>7</th>\n",
       "      <td>1058</td>\n",
       "    </tr>\n",
       "    <tr>\n",
       "      <th>...</th>\n",
       "      <th>...</th>\n",
       "      <td>...</td>\n",
       "    </tr>\n",
       "    <tr>\n",
       "      <th rowspan=\"5\" valign=\"top\">4</th>\n",
       "      <th>22</th>\n",
       "      <td>1606</td>\n",
       "    </tr>\n",
       "    <tr>\n",
       "      <th>23</th>\n",
       "      <td>1544</td>\n",
       "    </tr>\n",
       "    <tr>\n",
       "      <th>24</th>\n",
       "      <td>872</td>\n",
       "    </tr>\n",
       "    <tr>\n",
       "      <th>25</th>\n",
       "      <td>917</td>\n",
       "    </tr>\n",
       "    <tr>\n",
       "      <th>26</th>\n",
       "      <td>1350</td>\n",
       "    </tr>\n",
       "  </tbody>\n",
       "</table>\n",
       "<p>68 rows × 1 columns</p>\n",
       "</div>"
      ],
      "text/plain": [
       "                title\n",
       "year month day       \n",
       "2021 2     1    32744\n",
       "           2    62179\n",
       "           3    31256\n",
       "           4    19132\n",
       "           7     1058\n",
       "...               ...\n",
       "     4     22    1606\n",
       "           23    1544\n",
       "           24     872\n",
       "           25     917\n",
       "           26    1350\n",
       "\n",
       "[68 rows x 1 columns]"
      ]
     },
     "execution_count": 69,
     "metadata": {},
     "output_type": "execute_result"
    }
   ],
   "source": [
    "df.groupby(['year','month','day']).agg({'title':'count'})"
   ]
  },
  {
   "cell_type": "code",
   "execution_count": 70,
   "id": "parallel-motion",
   "metadata": {},
   "outputs": [],
   "source": [
    "day_by = df.groupby(['year', 'month','day']).agg({'title':'count'}).reset_index()"
   ]
  },
  {
   "cell_type": "code",
   "execution_count": 71,
   "id": "derived-oriental",
   "metadata": {},
   "outputs": [
    {
     "data": {
      "text/html": [
       "<div>\n",
       "<style scoped>\n",
       "    .dataframe tbody tr th:only-of-type {\n",
       "        vertical-align: middle;\n",
       "    }\n",
       "\n",
       "    .dataframe tbody tr th {\n",
       "        vertical-align: top;\n",
       "    }\n",
       "\n",
       "    .dataframe thead th {\n",
       "        text-align: right;\n",
       "    }\n",
       "</style>\n",
       "<table border=\"1\" class=\"dataframe\">\n",
       "  <thead>\n",
       "    <tr style=\"text-align: right;\">\n",
       "      <th></th>\n",
       "      <th>year</th>\n",
       "      <th>month</th>\n",
       "      <th>day</th>\n",
       "      <th>title</th>\n",
       "    </tr>\n",
       "  </thead>\n",
       "  <tbody>\n",
       "    <tr>\n",
       "      <th>0</th>\n",
       "      <td>2021</td>\n",
       "      <td>2</td>\n",
       "      <td>1</td>\n",
       "      <td>32744</td>\n",
       "    </tr>\n",
       "    <tr>\n",
       "      <th>1</th>\n",
       "      <td>2021</td>\n",
       "      <td>2</td>\n",
       "      <td>2</td>\n",
       "      <td>62179</td>\n",
       "    </tr>\n",
       "    <tr>\n",
       "      <th>2</th>\n",
       "      <td>2021</td>\n",
       "      <td>2</td>\n",
       "      <td>3</td>\n",
       "      <td>31256</td>\n",
       "    </tr>\n",
       "    <tr>\n",
       "      <th>3</th>\n",
       "      <td>2021</td>\n",
       "      <td>2</td>\n",
       "      <td>4</td>\n",
       "      <td>19132</td>\n",
       "    </tr>\n",
       "    <tr>\n",
       "      <th>4</th>\n",
       "      <td>2021</td>\n",
       "      <td>2</td>\n",
       "      <td>7</td>\n",
       "      <td>1058</td>\n",
       "    </tr>\n",
       "    <tr>\n",
       "      <th>...</th>\n",
       "      <td>...</td>\n",
       "      <td>...</td>\n",
       "      <td>...</td>\n",
       "      <td>...</td>\n",
       "    </tr>\n",
       "    <tr>\n",
       "      <th>63</th>\n",
       "      <td>2021</td>\n",
       "      <td>4</td>\n",
       "      <td>22</td>\n",
       "      <td>1606</td>\n",
       "    </tr>\n",
       "    <tr>\n",
       "      <th>64</th>\n",
       "      <td>2021</td>\n",
       "      <td>4</td>\n",
       "      <td>23</td>\n",
       "      <td>1544</td>\n",
       "    </tr>\n",
       "    <tr>\n",
       "      <th>65</th>\n",
       "      <td>2021</td>\n",
       "      <td>4</td>\n",
       "      <td>24</td>\n",
       "      <td>872</td>\n",
       "    </tr>\n",
       "    <tr>\n",
       "      <th>66</th>\n",
       "      <td>2021</td>\n",
       "      <td>4</td>\n",
       "      <td>25</td>\n",
       "      <td>917</td>\n",
       "    </tr>\n",
       "    <tr>\n",
       "      <th>67</th>\n",
       "      <td>2021</td>\n",
       "      <td>4</td>\n",
       "      <td>26</td>\n",
       "      <td>1350</td>\n",
       "    </tr>\n",
       "  </tbody>\n",
       "</table>\n",
       "<p>68 rows × 4 columns</p>\n",
       "</div>"
      ],
      "text/plain": [
       "    year  month  day  title\n",
       "0   2021      2    1  32744\n",
       "1   2021      2    2  62179\n",
       "2   2021      2    3  31256\n",
       "3   2021      2    4  19132\n",
       "4   2021      2    7   1058\n",
       "..   ...    ...  ...    ...\n",
       "63  2021      4   22   1606\n",
       "64  2021      4   23   1544\n",
       "65  2021      4   24    872\n",
       "66  2021      4   25    917\n",
       "67  2021      4   26   1350\n",
       "\n",
       "[68 rows x 4 columns]"
      ]
     },
     "execution_count": 71,
     "metadata": {},
     "output_type": "execute_result"
    }
   ],
   "source": [
    "day_by"
   ]
  },
  {
   "cell_type": "code",
   "execution_count": 73,
   "id": "broadband-ending",
   "metadata": {},
   "outputs": [],
   "source": [
    "day_by['full_date']= pd.to_datetime(day_by[['year','month','day']])"
   ]
  },
  {
   "cell_type": "code",
   "execution_count": 98,
   "id": "geographic-release",
   "metadata": {},
   "outputs": [
    {
     "data": {
      "image/png": "[encoded data removed]",
      "text/plain": [
       "<Figure size 864x432 with 1 Axes>"
      ]
     },
     "metadata": {},
     "output_type": "display_data"
    }
   ],
   "source": [
    "sns.set_theme(style='white')\n",
    "plt.figure(figsize=(12, 6))\n",
    "sns.barplot(x = 'full_date', y = 'title', data = day_by)\n",
    "plt.xticks(np.arange(68), list(day_by['day']))\n",
    "plt.xlabel(\"From 2/1 to 4/26\")\n",
    "plt.ylabel(\"Submissions\")\n",
    "plt.title(\"Daily reddit submissions from 2/1 to 4/26\");"
   ]
  },
  {
   "cell_type": "markdown",
   "id": "fantastic-melbourne",
   "metadata": {},
   "source": [
    "**Updating my database with additional data**"
   ]
  },
  {
   "cell_type": "code",
   "execution_count": 103,
   "id": "imported-alignment",
   "metadata": {},
   "outputs": [],
   "source": [
    "connection = pymysql.connect(host = 'localhost',\n",
    "                            user= 'root',\n",
    "                            password = 'pos99247',\n",
    "                            db = 'mydb')\n",
    "cursor = connection.cursor()\n",
    "cursor.execute('''\n",
    "SELECT *\n",
    "FROM wallstreetbets''')\n",
    "table_rows = cursor.fetchall()\n",
    "df1 = pd.DataFrame(table_rows)"
   ]
  },
  {
   "cell_type": "code",
   "execution_count": 104,
   "id": "infinite-pillow",
   "metadata": {},
   "outputs": [
    {
     "name": "stdout",
     "output_type": "stream",
     "text": [
      "<class 'pandas.core.frame.DataFrame'>\n",
      "RangeIndex: 877695 entries, 0 to 877694\n",
      "Data columns (total 6 columns):\n",
      " #   Column  Non-Null Count   Dtype \n",
      "---  ------  --------------   ----- \n",
      " 0   0       877695 non-null  object\n",
      " 1   1       877695 non-null  int64 \n",
      " 2   2       877695 non-null  object\n",
      " 3   3       877695 non-null  object\n",
      " 4   4       877695 non-null  object\n",
      " 5   5       877695 non-null  object\n",
      "dtypes: int64(1), object(5)\n",
      "memory usage: 40.2+ MB\n"
     ]
    }
   ],
   "source": [
    "df1.info()"
   ]
  },
  {
   "cell_type": "code",
   "execution_count": 105,
   "id": "functional-coalition",
   "metadata": {},
   "outputs": [
    {
     "data": {
      "text/html": [
       "<div>\n",
       "<style scoped>\n",
       "    .dataframe tbody tr th:only-of-type {\n",
       "        vertical-align: middle;\n",
       "    }\n",
       "\n",
       "    .dataframe tbody tr th {\n",
       "        vertical-align: top;\n",
       "    }\n",
       "\n",
       "    .dataframe thead th {\n",
       "        text-align: right;\n",
       "    }\n",
       "</style>\n",
       "<table border=\"1\" class=\"dataframe\">\n",
       "  <thead>\n",
       "    <tr style=\"text-align: right;\">\n",
       "      <th></th>\n",
       "      <th>author</th>\n",
       "      <th>score</th>\n",
       "      <th>selftext</th>\n",
       "      <th>time</th>\n",
       "      <th>title</th>\n",
       "      <th>url</th>\n",
       "    </tr>\n",
       "  </thead>\n",
       "  <tbody>\n",
       "    <tr>\n",
       "      <th>0</th>\n",
       "      <td>OPINION_IS_UNPOPULAR</td>\n",
       "      <td>1</td>\n",
       "      <td></td>\n",
       "      <td>2021-01-25T15:28:22</td>\n",
       "      <td>\"Investor Here. Sold 100% of my GameStop Stock...</td>\n",
       "      <td>/r/GameStop/comments/kdgckf/investor_here_sold...</td>\n",
       "    </tr>\n",
       "    <tr>\n",
       "      <th>1</th>\n",
       "      <td>afrankiewicz12</td>\n",
       "      <td>1</td>\n",
       "      <td></td>\n",
       "      <td>2021-02-09T08:01:01</td>\n",
       "      <td>Did anyone know you can view daily short volum...</td>\n",
       "      <td>ftp://ftp.nasdaqtrader.com/files/shortsaledata...</td>\n",
       "    </tr>\n",
       "    <tr>\n",
       "      <th>2</th>\n",
       "      <td>Krackis</td>\n",
       "      <td>1</td>\n",
       "      <td></td>\n",
       "      <td>2021-02-02T08:23:51</td>\n",
       "      <td>NYSE short circuit breaker report Showing $GME...</td>\n",
       "      <td>ftp://ftp.nyxdata.com/NYSEGroupSSRCircuitBreak...</td>\n",
       "    </tr>\n",
       "    <tr>\n",
       "      <th>3</th>\n",
       "      <td>[deleted]</td>\n",
       "      <td>1</td>\n",
       "      <td>[deleted]</td>\n",
       "      <td>2021-02-02T09:18:56</td>\n",
       "      <td>NYSE puts GME on Short Sale Restriction List, ...</td>\n",
       "      <td>ftp://ftp.nyxdata.com/NYSEGroupSSRCircuitBreak...</td>\n",
       "    </tr>\n",
       "    <tr>\n",
       "      <th>4</th>\n",
       "      <td>SolAureusAstra</td>\n",
       "      <td>3</td>\n",
       "      <td></td>\n",
       "      <td>2021-02-02T08:02:11</td>\n",
       "      <td>GME has been put on the NYSE Short Sale Circui...</td>\n",
       "      <td>ftp://ftp.nyxdata.com/NYSEGroupSSRCircuitBreak...</td>\n",
       "    </tr>\n",
       "  </tbody>\n",
       "</table>\n",
       "</div>"
      ],
      "text/plain": [
       "                 author  score   selftext                 time  \\\n",
       "0  OPINION_IS_UNPOPULAR      1             2021-01-25T15:28:22   \n",
       "1        afrankiewicz12      1             2021-02-09T08:01:01   \n",
       "2               Krackis      1             2021-02-02T08:23:51   \n",
       "3             [deleted]      1  [deleted]  2021-02-02T09:18:56   \n",
       "4        SolAureusAstra      3             2021-02-02T08:02:11   \n",
       "\n",
       "                                               title  \\\n",
       "0  \"Investor Here. Sold 100% of my GameStop Stock...   \n",
       "1  Did anyone know you can view daily short volum...   \n",
       "2  NYSE short circuit breaker report Showing $GME...   \n",
       "3  NYSE puts GME on Short Sale Restriction List, ...   \n",
       "4  GME has been put on the NYSE Short Sale Circui...   \n",
       "\n",
       "                                                 url  \n",
       "0  /r/GameStop/comments/kdgckf/investor_here_sold...  \n",
       "1  ftp://ftp.nasdaqtrader.com/files/shortsaledata...  \n",
       "2  ftp://ftp.nyxdata.com/NYSEGroupSSRCircuitBreak...  \n",
       "3  ftp://ftp.nyxdata.com/NYSEGroupSSRCircuitBreak...  \n",
       "4  ftp://ftp.nyxdata.com/NYSEGroupSSRCircuitBreak...  "
      ]
     },
     "execution_count": 105,
     "metadata": {},
     "output_type": "execute_result"
    }
   ],
   "source": [
    "df1.columns = ['author', 'score', 'selftext', 'time', 'title', 'url']\n",
    "df1.head(5)"
   ]
  },
  {
   "cell_type": "markdown",
   "id": "allied-scott",
   "metadata": {},
   "source": [
    "**data type change**"
   ]
  },
  {
   "cell_type": "code",
   "execution_count": 107,
   "id": "filled-firewall",
   "metadata": {},
   "outputs": [],
   "source": [
    "df1['time'] = pd.to_datetime(df1['time'])\n",
    "df1['day_of_week'] = df1['time'].dt.day_name()"
   ]
  },
  {
   "cell_type": "markdown",
   "id": "contemporary-citizen",
   "metadata": {},
   "source": [
    "**daily # of submissions**"
   ]
  },
  {
   "cell_type": "code",
   "execution_count": 108,
   "id": "threatened-costa",
   "metadata": {},
   "outputs": [
    {
     "data": {
      "text/plain": [
       "Thursday     250455\n",
       "Wednesday    162087\n",
       "Friday       141457\n",
       "Tuesday      107431\n",
       "Monday        85291\n",
       "Saturday      70279\n",
       "Sunday        60695\n",
       "Name: day_of_week, dtype: int64"
      ]
     },
     "execution_count": 108,
     "metadata": {},
     "output_type": "execute_result"
    }
   ],
   "source": [
    "df1['day_of_week'].value_counts()"
   ]
  },
  {
   "cell_type": "markdown",
   "id": "loving-regulation",
   "metadata": {},
   "source": [
    "**day to day submissions**"
   ]
  },
  {
   "cell_type": "code",
   "execution_count": 109,
   "id": "minimal-batch",
   "metadata": {},
   "outputs": [],
   "source": [
    "df1['day'] = df1['time'].dt.day\n",
    "df1['month'] = df1['time'].dt.month\n",
    "df1['year'] = df1['time'].dt.year"
   ]
  },
  {
   "cell_type": "code",
   "execution_count": 110,
   "id": "possible-zoning",
   "metadata": {},
   "outputs": [
    {
     "data": {
      "text/html": [
       "<div>\n",
       "<style scoped>\n",
       "    .dataframe tbody tr th:only-of-type {\n",
       "        vertical-align: middle;\n",
       "    }\n",
       "\n",
       "    .dataframe tbody tr th {\n",
       "        vertical-align: top;\n",
       "    }\n",
       "\n",
       "    .dataframe thead th {\n",
       "        text-align: right;\n",
       "    }\n",
       "</style>\n",
       "<table border=\"1\" class=\"dataframe\">\n",
       "  <thead>\n",
       "    <tr style=\"text-align: right;\">\n",
       "      <th></th>\n",
       "      <th></th>\n",
       "      <th></th>\n",
       "      <th>title</th>\n",
       "    </tr>\n",
       "    <tr>\n",
       "      <th>year</th>\n",
       "      <th>month</th>\n",
       "      <th>day</th>\n",
       "      <th></th>\n",
       "    </tr>\n",
       "  </thead>\n",
       "  <tbody>\n",
       "    <tr>\n",
       "      <th rowspan=\"11\" valign=\"top\">2021</th>\n",
       "      <th rowspan=\"5\" valign=\"top\">1</th>\n",
       "      <th>1</th>\n",
       "      <td>552</td>\n",
       "    </tr>\n",
       "    <tr>\n",
       "      <th>2</th>\n",
       "      <td>647</td>\n",
       "    </tr>\n",
       "    <tr>\n",
       "      <th>3</th>\n",
       "      <td>586</td>\n",
       "    </tr>\n",
       "    <tr>\n",
       "      <th>4</th>\n",
       "      <td>1098</td>\n",
       "    </tr>\n",
       "    <tr>\n",
       "      <th>5</th>\n",
       "      <td>1015</td>\n",
       "    </tr>\n",
       "    <tr>\n",
       "      <th>...</th>\n",
       "      <th>...</th>\n",
       "      <td>...</td>\n",
       "    </tr>\n",
       "    <tr>\n",
       "      <th rowspan=\"5\" valign=\"top\">4</th>\n",
       "      <th>22</th>\n",
       "      <td>1606</td>\n",
       "    </tr>\n",
       "    <tr>\n",
       "      <th>23</th>\n",
       "      <td>1544</td>\n",
       "    </tr>\n",
       "    <tr>\n",
       "      <th>24</th>\n",
       "      <td>872</td>\n",
       "    </tr>\n",
       "    <tr>\n",
       "      <th>25</th>\n",
       "      <td>917</td>\n",
       "    </tr>\n",
       "    <tr>\n",
       "      <th>26</th>\n",
       "      <td>1350</td>\n",
       "    </tr>\n",
       "  </tbody>\n",
       "</table>\n",
       "<p>99 rows × 1 columns</p>\n",
       "</div>"
      ],
      "text/plain": [
       "                title\n",
       "year month day       \n",
       "2021 1     1      552\n",
       "           2      647\n",
       "           3      586\n",
       "           4     1098\n",
       "           5     1015\n",
       "...               ...\n",
       "     4     22    1606\n",
       "           23    1544\n",
       "           24     872\n",
       "           25     917\n",
       "           26    1350\n",
       "\n",
       "[99 rows x 1 columns]"
      ]
     },
     "execution_count": 110,
     "metadata": {},
     "output_type": "execute_result"
    }
   ],
   "source": [
    "df1.groupby(['year','month','day']).agg({'title':'count'})"
   ]
  },
  {
   "cell_type": "code",
   "execution_count": 111,
   "id": "amber-motor",
   "metadata": {},
   "outputs": [],
   "source": [
    "day_by1 = df1.groupby(['year', 'month','day']).agg({'title':'count'}).reset_index()"
   ]
  },
  {
   "cell_type": "code",
   "execution_count": 112,
   "id": "adult-indiana",
   "metadata": {},
   "outputs": [],
   "source": [
    "day_by1['full_date']= pd.to_datetime(day_by1[['year','month','day']])"
   ]
  },
  {
   "cell_type": "code",
   "execution_count": 392,
   "id": "heard-siemens",
   "metadata": {},
   "outputs": [
    {
     "data": {
      "image/png": "[encoded data removed]",
      "text/plain": [
       "<Figure size 1296x720 with 1 Axes>"
      ]
     },
     "metadata": {},
     "output_type": "display_data"
    }
   ],
   "source": [
    "sns.set_theme(style='white')\n",
    "plt.figure(figsize=(18, 10))\n",
    "sns.barplot(x = 'full_date', y = 'title', data = day_by1)\n",
    "plt.xticks(np.arange(99), list(day_by1['day']))\n",
    "plt.xlabel(\"From 1/1 to 4/26\")\n",
    "plt.ylabel(\"Submissions\")\n",
    "plt.title(\"Daily reddit submissions from 2/1 to 4/26\");"
   ]
  },
  {
   "cell_type": "markdown",
   "id": "clear-nomination",
   "metadata": {},
   "source": [
    "A lot of submissions in between 1/27~2/4"
   ]
  },
  {
   "cell_type": "code",
   "execution_count": 118,
   "id": "graduate-relationship",
   "metadata": {},
   "outputs": [],
   "source": [
    "df1.to_csv(r'C:\\Users\\brian\\Desktop\\Data Science\\wallstreetbets.csv')"
   ]
  },
  {
   "cell_type": "code",
   "execution_count": 119,
   "id": "derived-language",
   "metadata": {},
   "outputs": [
    {
     "data": {
      "text/plain": [
       "0         \"Investor Here. Sold 100% of my GameStop Stock...\n",
       "1         Did anyone know you can view daily short volum...\n",
       "2         NYSE short circuit breaker report Showing $GME...\n",
       "3         NYSE puts GME on Short Sale Restriction List, ...\n",
       "4         GME has been put on the NYSE Short Sale Circui...\n",
       "                                ...                        \n",
       "877690    Lexicon Pharmaceuticals (LXRX) will grow this ...\n",
       "877691    Avinger, Inc. (NASDAQ:AVGR) Sees Large Growth ...\n",
       "877692    BARKBOX merger confirmed for mid April via Joa...\n",
       "877693    Comparing and graphing 2.2 million replies in ...\n",
       "877694    Tron's Justin Sun Allocates $10 Million To Pur...\n",
       "Name: title, Length: 877695, dtype: object"
      ]
     },
     "execution_count": 119,
     "metadata": {},
     "output_type": "execute_result"
    }
   ],
   "source": [
    "df1['title']"
   ]
  },
  {
   "cell_type": "code",
   "execution_count": 120,
   "id": "forbidden-broadcasting",
   "metadata": {},
   "outputs": [],
   "source": [
    "import spacy\n",
    "from spacy import displacy"
   ]
  },
  {
   "cell_type": "code",
   "execution_count": 122,
   "id": "impaired-score",
   "metadata": {},
   "outputs": [],
   "source": [
    "nlp = spacy.load('en_core_web_sm')"
   ]
  },
  {
   "cell_type": "code",
   "execution_count": 161,
   "id": "latter-glance",
   "metadata": {},
   "outputs": [],
   "source": [
    "def getmention(text):\n",
    "    doc=nlp(text)\n",
    "    org_list = []\n",
    "    for entity in doc.ents:\n",
    "        if entity.label_ == 'ORG':\n",
    "            org_list.append(entity.text)\n",
    "    org_list = list(set(org_list))\n",
    "    return org_list"
   ]
  },
  {
   "cell_type": "code",
   "execution_count": 162,
   "id": "selective-associate",
   "metadata": {},
   "outputs": [],
   "source": [
    "df1['org'] = df1['title'].apply(getmention)"
   ]
  },
  {
   "cell_type": "code",
   "execution_count": 133,
   "id": "lyric-understanding",
   "metadata": {},
   "outputs": [
    {
     "data": {
      "text/plain": [
       "'NYSE short circuit breaker report Showing $GME is on the list for 2/3/2021'"
      ]
     },
     "execution_count": 133,
     "metadata": {},
     "output_type": "execute_result"
    }
   ],
   "source": [
    "df1['title'][2]"
   ]
  },
  {
   "cell_type": "code",
   "execution_count": 149,
   "id": "systematic-victim",
   "metadata": {},
   "outputs": [],
   "source": [
    "doc=nlp(df1['title'][2])"
   ]
  },
  {
   "cell_type": "code",
   "execution_count": 172,
   "id": "yellow-vacuum",
   "metadata": {},
   "outputs": [
    {
     "data": {
      "text/plain": [
       "['NYSE', 'GME']"
      ]
     },
     "execution_count": 172,
     "metadata": {},
     "output_type": "execute_result"
    }
   ],
   "source": [
    "org_list = []\n",
    "\n",
    "\n",
    "for entity in doc.ents:\n",
    "        if entity.label_ == 'ORG':\n",
    "            if len(entity.text) < 5:\n",
    "                org_list.append(entity.text)\n",
    "org_list"
   ]
  },
  {
   "cell_type": "code",
   "execution_count": 144,
   "id": "driven-mainstream",
   "metadata": {},
   "outputs": [
    {
     "name": "stdout",
     "output_type": "stream",
     "text": [
      "[]\n"
     ]
    }
   ],
   "source": [
    "print(org_list)"
   ]
  },
  {
   "cell_type": "code",
   "execution_count": 142,
   "id": "distant-helmet",
   "metadata": {},
   "outputs": [
    {
     "data": {
      "text/plain": [
       "(NYSE, GME, 2/3/2021)"
      ]
     },
     "execution_count": 142,
     "metadata": {},
     "output_type": "execute_result"
    }
   ],
   "source": [
    "doc.ents"
   ]
  },
  {
   "cell_type": "code",
   "execution_count": 146,
   "id": "operating-underground",
   "metadata": {},
   "outputs": [
    {
     "name": "stdout",
     "output_type": "stream",
     "text": [
      "ORG:NYSE\n",
      "ORG:GME\n",
      "CARDINAL:2/3/2021\n"
     ]
    }
   ],
   "source": [
    "for entity in doc.ents:\n",
    "    print('{}:{}'.format(entity.label_, entity.text))"
   ]
  },
  {
   "cell_type": "code",
   "execution_count": 160,
   "id": "right-chicken",
   "metadata": {},
   "outputs": [
    {
     "data": {
      "text/plain": [
       "['NYSE', 'GME']"
      ]
     },
     "execution_count": 160,
     "metadata": {},
     "output_type": "execute_result"
    }
   ],
   "source": [
    "getmention(df1['title'][2])"
   ]
  },
  {
   "cell_type": "code",
   "execution_count": 163,
   "id": "color-component",
   "metadata": {},
   "outputs": [
    {
     "data": {
      "text/plain": [
       "0                                []\n",
       "1                          [NASDAQ]\n",
       "2                       [NYSE, GME]\n",
       "3                       [NYSE, GME]\n",
       "4                       [NYSE, GME]\n",
       "                    ...            \n",
       "877690    [Lexicon Pharmaceuticals]\n",
       "877691      [NASDAQ, Avinger, Inc.]\n",
       "877692                           []\n",
       "877693                  [Comparing]\n",
       "877694           [Tron, Justin Sun]\n",
       "Name: org, Length: 877695, dtype: object"
      ]
     },
     "execution_count": 163,
     "metadata": {},
     "output_type": "execute_result"
    }
   ],
   "source": [
    "df1['org']"
   ]
  },
  {
   "cell_type": "code",
   "execution_count": 165,
   "id": "ranking-alexander",
   "metadata": {},
   "outputs": [],
   "source": [
    "from collections import Counter\n",
    "from itertools import chain"
   ]
  },
  {
   "cell_type": "code",
   "execution_count": 166,
   "id": "aggregate-twist",
   "metadata": {},
   "outputs": [],
   "source": [
    "df2 =pd.Series(Counter(chain(*df1.org))).sort_index().rename_axis('org').reset_index(name='#ofMentions')"
   ]
  },
  {
   "cell_type": "code",
   "execution_count": null,
   "id": "imperial-belfast",
   "metadata": {},
   "outputs": [],
   "source": [
    "df2.sort_values('#ofMentions', ascending=False).head(100)"
   ]
  },
  {
   "cell_type": "code",
   "execution_count": 174,
   "id": "black-couple",
   "metadata": {},
   "outputs": [
    {
     "data": {
      "text/plain": [
       "['NYSE', 'GME']"
      ]
     },
     "execution_count": 174,
     "metadata": {},
     "output_type": "execute_result"
    }
   ],
   "source": [
    "df1['org'][2]"
   ]
  },
  {
   "cell_type": "code",
   "execution_count": 176,
   "id": "further-campbell",
   "metadata": {},
   "outputs": [
    {
     "data": {
      "text/plain": [
       "True"
      ]
     },
     "execution_count": 176,
     "metadata": {},
     "output_type": "execute_result"
    }
   ],
   "source": [
    "'GME' in df1['org'][2]"
   ]
  },
  {
   "cell_type": "code",
   "execution_count": 186,
   "id": "third-norfolk",
   "metadata": {},
   "outputs": [],
   "source": [
    "class Stock:\n",
    "    def __init__(self, name):\n",
    "        self.name = name\n",
    "    \n",
    "    # Check stock from ORG column\n",
    "    def check(self, list):\n",
    "        if self.name in list:\n",
    "            return 1\n",
    "        else:\n",
    "            return 0"
   ]
  },
  {
   "cell_type": "code",
   "execution_count": 190,
   "id": "metallic-adaptation",
   "metadata": {},
   "outputs": [],
   "source": [
    "# Assigning interested stocks into objects\n",
    "GME = Stock('GME')\n",
    "AMC = Stock('AMC')\n",
    "NOK = Stock('NOK')\n",
    "NAKD = Stock('NAKED')\n",
    "PLTR = Stock('PLTR')\n",
    "BB = Stock('BB')\n",
    "SLV = Stock('SLV')\n",
    "RH = Stock('RH')\n",
    "APHA = Stock('APHA')\n",
    "AMD = Stock('AMD')\n",
    "AAC = Stock('AAC')\n",
    "CCIV = Stock('CCIV')\n",
    "HODL = Stock('HODL')\n",
    "BBBY = Stock('BBBY')\n",
    "ZOM = Stock('ZOM')\n",
    "APPLE = Stock('APPLE')\n",
    "SOS = Stock('SOS')\n",
    "KOSS = Stock('KOSS')\n",
    "AMAZON = Stock('Amazon')"
   ]
  },
  {
   "cell_type": "code",
   "execution_count": 192,
   "id": "confident-balloon",
   "metadata": {},
   "outputs": [],
   "source": [
    "testdf = df1.head(10)"
   ]
  },
  {
   "cell_type": "code",
   "execution_count": 194,
   "id": "secure-species",
   "metadata": {},
   "outputs": [],
   "source": [
    "df1['gme'] = testdf['org'].apply(GME.check)"
   ]
  },
  {
   "cell_type": "code",
   "execution_count": 215,
   "id": "mathematical-replication",
   "metadata": {},
   "outputs": [],
   "source": [
    "# Created new rows to count each stock mentions\n",
    "stock_list = [GME, AMC, NOK, NAKD, PLTR, BB, SLV, RH, APHA, AMD, AAC, CCIV, HODL, BBBY, ZOM, APPLE, SOS, KOSS, AMAZON]\n",
    "for stock in stock_list:\n",
    "    df1[stock.name] = df1['org'].apply(stock.check)"
   ]
  },
  {
   "cell_type": "code",
   "execution_count": 216,
   "id": "chicken-grace",
   "metadata": {},
   "outputs": [
    {
     "name": "stdout",
     "output_type": "stream",
     "text": [
      "<class 'pandas.core.frame.DataFrame'>\n",
      "RangeIndex: 877695 entries, 0 to 877694\n",
      "Data columns (total 30 columns):\n",
      " #   Column       Non-Null Count   Dtype         \n",
      "---  ------       --------------   -----         \n",
      " 0   author       877695 non-null  object        \n",
      " 1   score        877695 non-null  int64         \n",
      " 2   selftext     877695 non-null  object        \n",
      " 3   time         877695 non-null  datetime64[ns]\n",
      " 4   title        877695 non-null  object        \n",
      " 5   url          877695 non-null  object        \n",
      " 6   day_of_week  877695 non-null  object        \n",
      " 7   day          877695 non-null  int64         \n",
      " 8   month        877695 non-null  int64         \n",
      " 9   year         877695 non-null  int64         \n",
      " 10  org          877695 non-null  object        \n",
      " 11  GME          877695 non-null  int64         \n",
      " 12  AMC          877695 non-null  int64         \n",
      " 13  NOK          877695 non-null  int64         \n",
      " 14  NAKED        877695 non-null  int64         \n",
      " 15  PLTR         877695 non-null  int64         \n",
      " 16  BB           877695 non-null  int64         \n",
      " 17  SLV          877695 non-null  int64         \n",
      " 18  RH           877695 non-null  int64         \n",
      " 19  APHA         877695 non-null  int64         \n",
      " 20  AMD          877695 non-null  int64         \n",
      " 21  AAC          877695 non-null  int64         \n",
      " 22  CCIV         877695 non-null  int64         \n",
      " 23  HODL         877695 non-null  int64         \n",
      " 24  BBBY         877695 non-null  int64         \n",
      " 25  ZOM          877695 non-null  int64         \n",
      " 26  APPLE        877695 non-null  int64         \n",
      " 27  SOS          877695 non-null  int64         \n",
      " 28  KOSS         877695 non-null  int64         \n",
      " 29  Amazon       877695 non-null  int64         \n",
      "dtypes: datetime64[ns](1), int64(23), object(6)\n",
      "memory usage: 200.9+ MB\n"
     ]
    }
   ],
   "source": [
    "df1.info()"
   ]
  },
  {
   "cell_type": "code",
   "execution_count": 235,
   "id": "defined-indication",
   "metadata": {},
   "outputs": [],
   "source": [
    "df1 = df1.sort_values('time', ascending = True)  # Re sort the list in time order"
   ]
  },
  {
   "cell_type": "code",
   "execution_count": 246,
   "id": "paperback-finland",
   "metadata": {},
   "outputs": [],
   "source": [
    "stock_column_list = ['GME', 'AMC', 'NOK', 'NAKED', 'PLTR', 'BB', 'SLV', 'RH', 'APHA', 'AMD', 'AAC',\n",
    "                     'CCIV', 'HODL', 'BBBY', 'ZOM', 'APPLE', 'SOS', 'KOSS', 'Amazon']\n",
    "for column in stock_column_list:\n",
    "    column_cumsum = column + \"_sum\"\n",
    "    df1[column] = df1[column].cumsum()"
   ]
  },
  {
   "cell_type": "code",
   "execution_count": 260,
   "id": "hollywood-worcester",
   "metadata": {},
   "outputs": [],
   "source": [
    "df1['full_date']= pd.to_datetime(df1[['year','month','day']])"
   ]
  },
  {
   "cell_type": "code",
   "execution_count": 275,
   "id": "upset-budapest",
   "metadata": {},
   "outputs": [
    {
     "data": {
      "text/plain": [
       "(array([18628., 18642., 18659., 18673., 18687., 18701., 18718., 18732.,\n",
       "        18748.]),\n",
       " [Text(0, 0, ''),\n",
       "  Text(0, 0, ''),\n",
       "  Text(0, 0, ''),\n",
       "  Text(0, 0, ''),\n",
       "  Text(0, 0, ''),\n",
       "  Text(0, 0, ''),\n",
       "  Text(0, 0, ''),\n",
       "  Text(0, 0, ''),\n",
       "  Text(0, 0, '')])"
      ]
     },
     "execution_count": 275,
     "metadata": {},
     "output_type": "execute_result"
    },
    {
     "data": {
      "image/png": "[encoded data removed]",
      "text/plain": [
       "<Figure size 1296x432 with 1 Axes>"
      ]
     },
     "metadata": {},
     "output_type": "display_data"
    }
   ],
   "source": [
    "plt.figure(figsize=(18, 6))\n",
    "sns.lineplot(x='full_date', y='GME', data = df1)\n",
    "plt.xticks(rotation=90)"
   ]
  },
  {
   "cell_type": "code",
   "execution_count": 391,
   "id": "charged-jones",
   "metadata": {},
   "outputs": [
    {
     "ename": "ValueError",
     "evalue": "Could not interpret value `GME_sum` for parameter `y`",
     "output_type": "error",
     "traceback": [
      "\u001b[1;31m---------------------------------------------------------------------------\u001b[0m",
      "\u001b[1;31mValueError\u001b[0m                                Traceback (most recent call last)",
      "\u001b[1;32m<ipython-input-391-e7333614f3a8>\u001b[0m in \u001b[0;36m<module>\u001b[1;34m\u001b[0m\n\u001b[0;32m      1\u001b[0m \u001b[0mplt\u001b[0m\u001b[1;33m.\u001b[0m\u001b[0mfigure\u001b[0m\u001b[1;33m(\u001b[0m\u001b[0mfigsize\u001b[0m\u001b[1;33m=\u001b[0m\u001b[1;33m(\u001b[0m\u001b[1;36m18\u001b[0m\u001b[1;33m,\u001b[0m \u001b[1;36m6\u001b[0m\u001b[1;33m)\u001b[0m\u001b[1;33m)\u001b[0m\u001b[1;33m\u001b[0m\u001b[1;33m\u001b[0m\u001b[0m\n\u001b[1;32m----> 2\u001b[1;33m \u001b[0msns\u001b[0m\u001b[1;33m.\u001b[0m\u001b[0mlineplot\u001b[0m\u001b[1;33m(\u001b[0m\u001b[0mx\u001b[0m\u001b[1;33m=\u001b[0m\u001b[1;34m'full_date'\u001b[0m\u001b[1;33m,\u001b[0m \u001b[0my\u001b[0m\u001b[1;33m=\u001b[0m\u001b[1;34m'GME_sum'\u001b[0m\u001b[1;33m,\u001b[0m \u001b[0mdata\u001b[0m \u001b[1;33m=\u001b[0m \u001b[0mdf1\u001b[0m\u001b[1;33m)\u001b[0m\u001b[1;33m\u001b[0m\u001b[1;33m\u001b[0m\u001b[0m\n\u001b[0m\u001b[0;32m      3\u001b[0m \u001b[0msns\u001b[0m\u001b[1;33m.\u001b[0m\u001b[0mlineplot\u001b[0m\u001b[1;33m(\u001b[0m\u001b[0mx\u001b[0m\u001b[1;33m=\u001b[0m\u001b[1;34m'full_date'\u001b[0m\u001b[1;33m,\u001b[0m \u001b[0my\u001b[0m\u001b[1;33m=\u001b[0m\u001b[1;34m'AMC_sum'\u001b[0m\u001b[1;33m,\u001b[0m \u001b[0mdata\u001b[0m \u001b[1;33m=\u001b[0m \u001b[0mdf1\u001b[0m\u001b[1;33m)\u001b[0m\u001b[1;33m\u001b[0m\u001b[1;33m\u001b[0m\u001b[0m\n\u001b[0;32m      4\u001b[0m \u001b[0msns\u001b[0m\u001b[1;33m.\u001b[0m\u001b[0mlineplot\u001b[0m\u001b[1;33m(\u001b[0m\u001b[0mx\u001b[0m\u001b[1;33m=\u001b[0m\u001b[1;34m'full_date'\u001b[0m\u001b[1;33m,\u001b[0m \u001b[0my\u001b[0m\u001b[1;33m=\u001b[0m\u001b[1;34m'NOK_sum'\u001b[0m\u001b[1;33m,\u001b[0m \u001b[0mdata\u001b[0m \u001b[1;33m=\u001b[0m \u001b[0mdf1\u001b[0m\u001b[1;33m)\u001b[0m\u001b[1;33m\u001b[0m\u001b[1;33m\u001b[0m\u001b[0m\n\u001b[0;32m      5\u001b[0m \u001b[0msns\u001b[0m\u001b[1;33m.\u001b[0m\u001b[0mlineplot\u001b[0m\u001b[1;33m(\u001b[0m\u001b[0mx\u001b[0m\u001b[1;33m=\u001b[0m\u001b[1;34m'full_date'\u001b[0m\u001b[1;33m,\u001b[0m \u001b[0my\u001b[0m\u001b[1;33m=\u001b[0m\u001b[1;34m'PLTR_sum'\u001b[0m\u001b[1;33m,\u001b[0m \u001b[0mdata\u001b[0m \u001b[1;33m=\u001b[0m \u001b[0mdf1\u001b[0m\u001b[1;33m)\u001b[0m\u001b[1;33m\u001b[0m\u001b[1;33m\u001b[0m\u001b[0m\n",
      "\u001b[1;32m~\\.conda\\envs\\metis\\lib\\site-packages\\seaborn\\_decorators.py\u001b[0m in \u001b[0;36minner_f\u001b[1;34m(*args, **kwargs)\u001b[0m\n\u001b[0;32m     44\u001b[0m             )\n\u001b[0;32m     45\u001b[0m         \u001b[0mkwargs\u001b[0m\u001b[1;33m.\u001b[0m\u001b[0mupdate\u001b[0m\u001b[1;33m(\u001b[0m\u001b[1;33m{\u001b[0m\u001b[0mk\u001b[0m\u001b[1;33m:\u001b[0m \u001b[0marg\u001b[0m \u001b[1;32mfor\u001b[0m \u001b[0mk\u001b[0m\u001b[1;33m,\u001b[0m \u001b[0marg\u001b[0m \u001b[1;32min\u001b[0m \u001b[0mzip\u001b[0m\u001b[1;33m(\u001b[0m\u001b[0msig\u001b[0m\u001b[1;33m.\u001b[0m\u001b[0mparameters\u001b[0m\u001b[1;33m,\u001b[0m \u001b[0margs\u001b[0m\u001b[1;33m)\u001b[0m\u001b[1;33m}\u001b[0m\u001b[1;33m)\u001b[0m\u001b[1;33m\u001b[0m\u001b[1;33m\u001b[0m\u001b[0m\n\u001b[1;32m---> 46\u001b[1;33m         \u001b[1;32mreturn\u001b[0m \u001b[0mf\u001b[0m\u001b[1;33m(\u001b[0m\u001b[1;33m**\u001b[0m\u001b[0mkwargs\u001b[0m\u001b[1;33m)\u001b[0m\u001b[1;33m\u001b[0m\u001b[1;33m\u001b[0m\u001b[0m\n\u001b[0m\u001b[0;32m     47\u001b[0m     \u001b[1;32mreturn\u001b[0m \u001b[0minner_f\u001b[0m\u001b[1;33m\u001b[0m\u001b[1;33m\u001b[0m\u001b[0m\n\u001b[0;32m     48\u001b[0m \u001b[1;33m\u001b[0m\u001b[0m\n",
      "\u001b[1;32m~\\.conda\\envs\\metis\\lib\\site-packages\\seaborn\\relational.py\u001b[0m in \u001b[0;36mlineplot\u001b[1;34m(x, y, hue, size, style, data, palette, hue_order, hue_norm, sizes, size_order, size_norm, dashes, markers, style_order, units, estimator, ci, n_boot, seed, sort, err_style, err_kws, legend, ax, **kwargs)\u001b[0m\n\u001b[0;32m    683\u001b[0m \u001b[1;33m\u001b[0m\u001b[0m\n\u001b[0;32m    684\u001b[0m     \u001b[0mvariables\u001b[0m \u001b[1;33m=\u001b[0m \u001b[0m_LinePlotter\u001b[0m\u001b[1;33m.\u001b[0m\u001b[0mget_semantics\u001b[0m\u001b[1;33m(\u001b[0m\u001b[0mlocals\u001b[0m\u001b[1;33m(\u001b[0m\u001b[1;33m)\u001b[0m\u001b[1;33m)\u001b[0m\u001b[1;33m\u001b[0m\u001b[1;33m\u001b[0m\u001b[0m\n\u001b[1;32m--> 685\u001b[1;33m     p = _LinePlotter(\n\u001b[0m\u001b[0;32m    686\u001b[0m         \u001b[0mdata\u001b[0m\u001b[1;33m=\u001b[0m\u001b[0mdata\u001b[0m\u001b[1;33m,\u001b[0m \u001b[0mvariables\u001b[0m\u001b[1;33m=\u001b[0m\u001b[0mvariables\u001b[0m\u001b[1;33m,\u001b[0m\u001b[1;33m\u001b[0m\u001b[1;33m\u001b[0m\u001b[0m\n\u001b[0;32m    687\u001b[0m         \u001b[0mestimator\u001b[0m\u001b[1;33m=\u001b[0m\u001b[0mestimator\u001b[0m\u001b[1;33m,\u001b[0m \u001b[0mci\u001b[0m\u001b[1;33m=\u001b[0m\u001b[0mci\u001b[0m\u001b[1;33m,\u001b[0m \u001b[0mn_boot\u001b[0m\u001b[1;33m=\u001b[0m\u001b[0mn_boot\u001b[0m\u001b[1;33m,\u001b[0m \u001b[0mseed\u001b[0m\u001b[1;33m=\u001b[0m\u001b[0mseed\u001b[0m\u001b[1;33m,\u001b[0m\u001b[1;33m\u001b[0m\u001b[1;33m\u001b[0m\u001b[0m\n",
      "\u001b[1;32m~\\.conda\\envs\\metis\\lib\\site-packages\\seaborn\\relational.py\u001b[0m in \u001b[0;36m__init__\u001b[1;34m(self, data, variables, estimator, ci, n_boot, seed, sort, err_style, err_kws, legend)\u001b[0m\n\u001b[0;32m    365\u001b[0m         )\n\u001b[0;32m    366\u001b[0m \u001b[1;33m\u001b[0m\u001b[0m\n\u001b[1;32m--> 367\u001b[1;33m         \u001b[0msuper\u001b[0m\u001b[1;33m(\u001b[0m\u001b[1;33m)\u001b[0m\u001b[1;33m.\u001b[0m\u001b[0m__init__\u001b[0m\u001b[1;33m(\u001b[0m\u001b[0mdata\u001b[0m\u001b[1;33m=\u001b[0m\u001b[0mdata\u001b[0m\u001b[1;33m,\u001b[0m \u001b[0mvariables\u001b[0m\u001b[1;33m=\u001b[0m\u001b[0mvariables\u001b[0m\u001b[1;33m)\u001b[0m\u001b[1;33m\u001b[0m\u001b[1;33m\u001b[0m\u001b[0m\n\u001b[0m\u001b[0;32m    368\u001b[0m \u001b[1;33m\u001b[0m\u001b[0m\n\u001b[0;32m    369\u001b[0m         \u001b[0mself\u001b[0m\u001b[1;33m.\u001b[0m\u001b[0mestimator\u001b[0m \u001b[1;33m=\u001b[0m \u001b[0mestimator\u001b[0m\u001b[1;33m\u001b[0m\u001b[1;33m\u001b[0m\u001b[0m\n",
      "\u001b[1;32m~\\.conda\\envs\\metis\\lib\\site-packages\\seaborn\\_core.py\u001b[0m in \u001b[0;36m__init__\u001b[1;34m(self, data, variables)\u001b[0m\n\u001b[0;32m    602\u001b[0m     \u001b[1;32mdef\u001b[0m \u001b[0m__init__\u001b[0m\u001b[1;33m(\u001b[0m\u001b[0mself\u001b[0m\u001b[1;33m,\u001b[0m \u001b[0mdata\u001b[0m\u001b[1;33m=\u001b[0m\u001b[1;32mNone\u001b[0m\u001b[1;33m,\u001b[0m \u001b[0mvariables\u001b[0m\u001b[1;33m=\u001b[0m\u001b[1;33m{\u001b[0m\u001b[1;33m}\u001b[0m\u001b[1;33m)\u001b[0m\u001b[1;33m:\u001b[0m\u001b[1;33m\u001b[0m\u001b[1;33m\u001b[0m\u001b[0m\n\u001b[0;32m    603\u001b[0m \u001b[1;33m\u001b[0m\u001b[0m\n\u001b[1;32m--> 604\u001b[1;33m         \u001b[0mself\u001b[0m\u001b[1;33m.\u001b[0m\u001b[0massign_variables\u001b[0m\u001b[1;33m(\u001b[0m\u001b[0mdata\u001b[0m\u001b[1;33m,\u001b[0m \u001b[0mvariables\u001b[0m\u001b[1;33m)\u001b[0m\u001b[1;33m\u001b[0m\u001b[1;33m\u001b[0m\u001b[0m\n\u001b[0m\u001b[0;32m    605\u001b[0m \u001b[1;33m\u001b[0m\u001b[0m\n\u001b[0;32m    606\u001b[0m         \u001b[1;32mfor\u001b[0m \u001b[0mvar\u001b[0m\u001b[1;33m,\u001b[0m \u001b[0mcls\u001b[0m \u001b[1;32min\u001b[0m \u001b[0mself\u001b[0m\u001b[1;33m.\u001b[0m\u001b[0m_semantic_mappings\u001b[0m\u001b[1;33m.\u001b[0m\u001b[0mitems\u001b[0m\u001b[1;33m(\u001b[0m\u001b[1;33m)\u001b[0m\u001b[1;33m:\u001b[0m\u001b[1;33m\u001b[0m\u001b[1;33m\u001b[0m\u001b[0m\n",
      "\u001b[1;32m~\\.conda\\envs\\metis\\lib\\site-packages\\seaborn\\_core.py\u001b[0m in \u001b[0;36massign_variables\u001b[1;34m(self, data, variables)\u001b[0m\n\u001b[0;32m    665\u001b[0m         \u001b[1;32melse\u001b[0m\u001b[1;33m:\u001b[0m\u001b[1;33m\u001b[0m\u001b[1;33m\u001b[0m\u001b[0m\n\u001b[0;32m    666\u001b[0m             \u001b[0mself\u001b[0m\u001b[1;33m.\u001b[0m\u001b[0minput_format\u001b[0m \u001b[1;33m=\u001b[0m \u001b[1;34m\"long\"\u001b[0m\u001b[1;33m\u001b[0m\u001b[1;33m\u001b[0m\u001b[0m\n\u001b[1;32m--> 667\u001b[1;33m             plot_data, variables = self._assign_variables_longform(\n\u001b[0m\u001b[0;32m    668\u001b[0m                 \u001b[0mdata\u001b[0m\u001b[1;33m,\u001b[0m \u001b[1;33m**\u001b[0m\u001b[0mvariables\u001b[0m\u001b[1;33m,\u001b[0m\u001b[1;33m\u001b[0m\u001b[1;33m\u001b[0m\u001b[0m\n\u001b[0;32m    669\u001b[0m             )\n",
      "\u001b[1;32m~\\.conda\\envs\\metis\\lib\\site-packages\\seaborn\\_core.py\u001b[0m in \u001b[0;36m_assign_variables_longform\u001b[1;34m(self, data, **kwargs)\u001b[0m\n\u001b[0;32m    900\u001b[0m \u001b[1;33m\u001b[0m\u001b[0m\n\u001b[0;32m    901\u001b[0m                 \u001b[0merr\u001b[0m \u001b[1;33m=\u001b[0m \u001b[1;34mf\"Could not interpret value `{val}` for parameter `{key}`\"\u001b[0m\u001b[1;33m\u001b[0m\u001b[1;33m\u001b[0m\u001b[0m\n\u001b[1;32m--> 902\u001b[1;33m                 \u001b[1;32mraise\u001b[0m \u001b[0mValueError\u001b[0m\u001b[1;33m(\u001b[0m\u001b[0merr\u001b[0m\u001b[1;33m)\u001b[0m\u001b[1;33m\u001b[0m\u001b[1;33m\u001b[0m\u001b[0m\n\u001b[0m\u001b[0;32m    903\u001b[0m \u001b[1;33m\u001b[0m\u001b[0m\n\u001b[0;32m    904\u001b[0m             \u001b[1;32melse\u001b[0m\u001b[1;33m:\u001b[0m\u001b[1;33m\u001b[0m\u001b[1;33m\u001b[0m\u001b[0m\n",
      "\u001b[1;31mValueError\u001b[0m: Could not interpret value `GME_sum` for parameter `y`"
     ]
    },
    {
     "data": {
      "text/plain": [
       "<Figure size 1296x432 with 0 Axes>"
      ]
     },
     "metadata": {},
     "output_type": "display_data"
    }
   ],
   "source": [
    "plt.figure(figsize=(18, 6))\n",
    "sns.lineplot(x='full_date', y='GME_sum', data = df1)\n",
    "sns.lineplot(x='full_date', y='AMC_sum', data = df1)\n",
    "sns.lineplot(x='full_date', y='NOK_sum', data = df1)\n",
    "sns.lineplot(x='full_date', y='PLTR_sum', data = df1)\n",
    "sns.lineplot(x='full_date', y='BB_sum', data = df1)\n",
    "plt.xticks(rotation=90)"
   ]
  },
  {
   "cell_type": "code",
   "execution_count": 262,
   "id": "raised-replication",
   "metadata": {},
   "outputs": [],
   "source": [
    "df1 = df1[['author', 'score', 'selftext', 'time', 'title', 'url', 'day_of_week', 'day', 'month', 'year',\n",
    "          'GME', 'AMC', 'NOK', 'NAKED', 'PLTR', 'BB', 'SLV', 'RH', 'APHA', 'AMD', 'AAC','CCIV', 'HODL', 'BBBY', \n",
    "           'ZOM', 'APPLE', 'SOS', 'KOSS', 'Amazon', 'full_date']]"
   ]
  },
  {
   "cell_type": "code",
   "execution_count": 253,
   "id": "split-listening",
   "metadata": {},
   "outputs": [],
   "source": [
    "df3 = df1[['author', 'score', 'selftext', 'time', 'title', 'url', 'day_of_week', 'day', 'month', 'year', 'org','full_date']]"
   ]
  },
  {
   "cell_type": "code",
   "execution_count": 263,
   "id": "weird-complement",
   "metadata": {},
   "outputs": [
    {
     "name": "stdout",
     "output_type": "stream",
     "text": [
      "<class 'pandas.core.frame.DataFrame'>\n",
      "Int64Index: 877695 entries, 354971 to 266126\n",
      "Data columns (total 30 columns):\n",
      " #   Column       Non-Null Count   Dtype         \n",
      "---  ------       --------------   -----         \n",
      " 0   author       877695 non-null  object        \n",
      " 1   score        877695 non-null  int64         \n",
      " 2   selftext     877695 non-null  object        \n",
      " 3   time         877695 non-null  datetime64[ns]\n",
      " 4   title        877695 non-null  object        \n",
      " 5   url          877695 non-null  object        \n",
      " 6   day_of_week  877695 non-null  object        \n",
      " 7   day          877695 non-null  int64         \n",
      " 8   month        877695 non-null  int64         \n",
      " 9   year         877695 non-null  int64         \n",
      " 10  GME          877695 non-null  int64         \n",
      " 11  AMC          877695 non-null  int64         \n",
      " 12  NOK          877695 non-null  int64         \n",
      " 13  NAKED        877695 non-null  int64         \n",
      " 14  PLTR         877695 non-null  int64         \n",
      " 15  BB           877695 non-null  int64         \n",
      " 16  SLV          877695 non-null  int64         \n",
      " 17  RH           877695 non-null  int64         \n",
      " 18  APHA         877695 non-null  int64         \n",
      " 19  AMD          877695 non-null  int64         \n",
      " 20  AAC          877695 non-null  int64         \n",
      " 21  CCIV         877695 non-null  int64         \n",
      " 22  HODL         877695 non-null  int64         \n",
      " 23  BBBY         877695 non-null  int64         \n",
      " 24  ZOM          877695 non-null  int64         \n",
      " 25  APPLE        877695 non-null  int64         \n",
      " 26  SOS          877695 non-null  int64         \n",
      " 27  KOSS         877695 non-null  int64         \n",
      " 28  Amazon       877695 non-null  int64         \n",
      " 29  full_date    877695 non-null  datetime64[ns]\n",
      "dtypes: datetime64[ns](2), int64(23), object(5)\n",
      "memory usage: 207.6+ MB\n"
     ]
    }
   ],
   "source": [
    "df1.info()"
   ]
  },
  {
   "cell_type": "code",
   "execution_count": 265,
   "id": "norwegian-albany",
   "metadata": {},
   "outputs": [],
   "source": [
    "hostname=\"localhost\"\n",
    "dbname=\"mydb\"\n",
    "uname=\"root\"\n",
    "pwd=\"pos99247\"\n",
    "engine = create_engine('mysql+pymysql://{user}:{pw}@{host}/{db}'.format(host=hostname, db=dbname, user=uname, pw=pwd))\n",
    "\n",
    "df1.to_sql('reddit_init', engine, index=False)"
   ]
  },
  {
   "cell_type": "code",
   "execution_count": 287,
   "id": "suburban-simple",
   "metadata": {},
   "outputs": [],
   "source": [
    "engine = create_engine('mysql+pymysql://{user}:{pw}@{host}/{db}'.format(host=hostname, db=dbname, user=uname, pw=pwd))\n",
    "\n",
    "daybyday.to_sql('daybyday', engine, index=False)"
   ]
  },
  {
   "cell_type": "code",
   "execution_count": 290,
   "id": "governing-unknown",
   "metadata": {},
   "outputs": [
    {
     "name": "stdout",
     "output_type": "stream",
     "text": [
      "<class 'pandas.core.frame.DataFrame'>\n",
      "RangeIndex: 99 entries, 0 to 98\n",
      "Data columns (total 2 columns):\n",
      " #   Column     Non-Null Count  Dtype         \n",
      "---  ------     --------------  -----         \n",
      " 0   full_date  99 non-null     datetime64[ns]\n",
      " 1   title      99 non-null     int64         \n",
      "dtypes: datetime64[ns](1), int64(1)\n",
      "memory usage: 1.7 KB\n"
     ]
    }
   ],
   "source": [
    "daybyday.info()"
   ]
  },
  {
   "cell_type": "code",
   "execution_count": 291,
   "id": "twenty-confidentiality",
   "metadata": {},
   "outputs": [],
   "source": [
    "daybyday['full_date'] = daybyday['full_date'].astype('object')"
   ]
  },
  {
   "cell_type": "code",
   "execution_count": 371,
   "id": "amended-brake",
   "metadata": {},
   "outputs": [
    {
     "data": {
      "image/png": "[encoded data removed]",
      "text/plain": [
       "<Figure size 1296x432 with 1 Axes>"
      ]
     },
     "metadata": {},
     "output_type": "display_data"
    }
   ],
   "source": [
    "sns.set_theme(style='white')\n",
    "plt.figure(figsize=(18, 6))\n",
    "sns.barplot(x = 0, y = 1, data = daybyday)\n",
    "plt.xticks(np.arange(0,99, step = 28), ['jan', 'feb', 'mar', 'apr'])\n",
    "plt.xlabel(\"From 1/1 to 4/26\")\n",
    "plt.ylabel(\"Submissions\")\n",
    "plt.title(\"Daily reddit submissions from 1/1 to 4/26\");"
   ]
  },
  {
   "cell_type": "code",
   "execution_count": 286,
   "id": "juvenile-abortion",
   "metadata": {},
   "outputs": [
    {
     "name": "stdout",
     "output_type": "stream",
     "text": [
      "<class 'pandas.core.frame.DataFrame'>\n",
      "Int64Index: 877695 entries, 354971 to 266126\n",
      "Data columns (total 30 columns):\n",
      " #   Column       Non-Null Count   Dtype         \n",
      "---  ------       --------------   -----         \n",
      " 0   author       877695 non-null  object        \n",
      " 1   score        877695 non-null  int64         \n",
      " 2   selftext     877695 non-null  object        \n",
      " 3   time         877695 non-null  datetime64[ns]\n",
      " 4   title        877695 non-null  object        \n",
      " 5   url          877695 non-null  object        \n",
      " 6   day_of_week  877695 non-null  object        \n",
      " 7   day          877695 non-null  int64         \n",
      " 8   month        877695 non-null  int64         \n",
      " 9   year         877695 non-null  int64         \n",
      " 10  GME          877695 non-null  int64         \n",
      " 11  AMC          877695 non-null  int64         \n",
      " 12  NOK          877695 non-null  int64         \n",
      " 13  NAKED        877695 non-null  int64         \n",
      " 14  PLTR         877695 non-null  int64         \n",
      " 15  BB           877695 non-null  int64         \n",
      " 16  SLV          877695 non-null  int64         \n",
      " 17  RH           877695 non-null  int64         \n",
      " 18  APHA         877695 non-null  int64         \n",
      " 19  AMD          877695 non-null  int64         \n",
      " 20  AAC          877695 non-null  int64         \n",
      " 21  CCIV         877695 non-null  int64         \n",
      " 22  HODL         877695 non-null  int64         \n",
      " 23  BBBY         877695 non-null  int64         \n",
      " 24  ZOM          877695 non-null  int64         \n",
      " 25  APPLE        877695 non-null  int64         \n",
      " 26  SOS          877695 non-null  int64         \n",
      " 27  KOSS         877695 non-null  int64         \n",
      " 28  Amazon       877695 non-null  int64         \n",
      " 29  full_date    877695 non-null  datetime64[ns]\n",
      "dtypes: datetime64[ns](2), int64(23), object(5)\n",
      "memory usage: 207.6+ MB\n"
     ]
    }
   ],
   "source": [
    "df1.info()"
   ]
  },
  {
   "cell_type": "code",
   "execution_count": 294,
   "id": "practical-graphic",
   "metadata": {},
   "outputs": [
    {
     "data": {
      "text/html": [
       "<div>\n",
       "<style scoped>\n",
       "    .dataframe tbody tr th:only-of-type {\n",
       "        vertical-align: middle;\n",
       "    }\n",
       "\n",
       "    .dataframe tbody tr th {\n",
       "        vertical-align: top;\n",
       "    }\n",
       "\n",
       "    .dataframe thead th {\n",
       "        text-align: right;\n",
       "    }\n",
       "</style>\n",
       "<table border=\"1\" class=\"dataframe\">\n",
       "  <thead>\n",
       "    <tr style=\"text-align: right;\">\n",
       "      <th></th>\n",
       "      <th>full_date</th>\n",
       "      <th>title</th>\n",
       "    </tr>\n",
       "  </thead>\n",
       "  <tbody>\n",
       "    <tr>\n",
       "      <th>0</th>\n",
       "      <td>2021-01-01 00:00:00</td>\n",
       "      <td>552</td>\n",
       "    </tr>\n",
       "    <tr>\n",
       "      <th>1</th>\n",
       "      <td>2021-01-02 00:00:00</td>\n",
       "      <td>647</td>\n",
       "    </tr>\n",
       "    <tr>\n",
       "      <th>2</th>\n",
       "      <td>2021-01-03 00:00:00</td>\n",
       "      <td>586</td>\n",
       "    </tr>\n",
       "    <tr>\n",
       "      <th>3</th>\n",
       "      <td>2021-01-04 00:00:00</td>\n",
       "      <td>1098</td>\n",
       "    </tr>\n",
       "    <tr>\n",
       "      <th>4</th>\n",
       "      <td>2021-01-05 00:00:00</td>\n",
       "      <td>1015</td>\n",
       "    </tr>\n",
       "  </tbody>\n",
       "</table>\n",
       "</div>"
      ],
      "text/plain": [
       "             full_date  title\n",
       "0  2021-01-01 00:00:00    552\n",
       "1  2021-01-02 00:00:00    647\n",
       "2  2021-01-03 00:00:00    586\n",
       "3  2021-01-04 00:00:00   1098\n",
       "4  2021-01-05 00:00:00   1015"
      ]
     },
     "execution_count": 294,
     "metadata": {},
     "output_type": "execute_result"
    }
   ],
   "source": [
    "daybyday.head()"
   ]
  },
  {
   "cell_type": "code",
   "execution_count": 335,
   "id": "neutral-story",
   "metadata": {},
   "outputs": [],
   "source": [
    "connection = pymysql.connect(host = 'localhost',\n",
    "                            user= 'root',\n",
    "                            password = 'pos99247',\n",
    "                            db = 'mydb',\n",
    "                            cursorclass=pymysql.cursors.DictCursor)\n",
    "\n",
    "cursor = connection.cursor()\n",
    "\n",
    "\n",
    "cursor.execute('''SELECT * FROM reddit_init''')\n",
    "table3_rows = cursor.fetchall()\n",
    "reddit = pd.DataFrame(table3_rows)"
   ]
  },
  {
   "cell_type": "code",
   "execution_count": 336,
   "id": "official-japanese",
   "metadata": {},
   "outputs": [
    {
     "name": "stdout",
     "output_type": "stream",
     "text": [
      "<class 'pandas.core.frame.DataFrame'>\n",
      "RangeIndex: 877695 entries, 0 to 877694\n",
      "Data columns (total 30 columns):\n",
      " #   Column       Non-Null Count   Dtype         \n",
      "---  ------       --------------   -----         \n",
      " 0   author       877695 non-null  object        \n",
      " 1   score        877695 non-null  int64         \n",
      " 2   selftext     877695 non-null  object        \n",
      " 3   time         877695 non-null  datetime64[ns]\n",
      " 4   title        877695 non-null  object        \n",
      " 5   url          877695 non-null  object        \n",
      " 6   day_of_week  877695 non-null  object        \n",
      " 7   day          877695 non-null  int64         \n",
      " 8   month        877695 non-null  int64         \n",
      " 9   year         877695 non-null  int64         \n",
      " 10  GME          877695 non-null  int64         \n",
      " 11  AMC          877695 non-null  int64         \n",
      " 12  NOK          877695 non-null  int64         \n",
      " 13  NAKED        877695 non-null  int64         \n",
      " 14  PLTR         877695 non-null  int64         \n",
      " 15  BB           877695 non-null  int64         \n",
      " 16  SLV          877695 non-null  int64         \n",
      " 17  RH           877695 non-null  int64         \n",
      " 18  APHA         877695 non-null  int64         \n",
      " 19  AMD          877695 non-null  int64         \n",
      " 20  AAC          877695 non-null  int64         \n",
      " 21  CCIV         877695 non-null  int64         \n",
      " 22  HODL         877695 non-null  int64         \n",
      " 23  BBBY         877695 non-null  int64         \n",
      " 24  ZOM          877695 non-null  int64         \n",
      " 25  APPLE        877695 non-null  int64         \n",
      " 26  SOS          877695 non-null  int64         \n",
      " 27  KOSS         877695 non-null  int64         \n",
      " 28  Amazon       877695 non-null  int64         \n",
      " 29  full_date    877695 non-null  datetime64[ns]\n",
      "dtypes: datetime64[ns](2), int64(23), object(5)\n",
      "memory usage: 200.9+ MB\n"
     ]
    }
   ],
   "source": [
    "reddit.info()"
   ]
  },
  {
   "cell_type": "code",
   "execution_count": 314,
   "id": "convenient-greece",
   "metadata": {},
   "outputs": [
    {
     "data": {
      "text/plain": [
       "30"
      ]
     },
     "execution_count": 314,
     "metadata": {},
     "output_type": "execute_result"
    }
   ],
   "source": [
    "cursor.execute(\"\"\"SELECT *\n",
    "FROM INFORMATION_SCHEMA.COLUMNS\n",
    "WHERE TABLE_NAME = n'reddit_init'\"\"\")"
   ]
  },
  {
   "cell_type": "code",
   "execution_count": 298,
   "id": "rental-seven",
   "metadata": {},
   "outputs": [
    {
     "name": "stdout",
     "output_type": "stream",
     "text": [
      "<class 'pandas.core.frame.DataFrame'>\n",
      "RangeIndex: 99 entries, 0 to 98\n",
      "Data columns (total 2 columns):\n",
      " #   Column  Non-Null Count  Dtype         \n",
      "---  ------  --------------  -----         \n",
      " 0   0       99 non-null     datetime64[ns]\n",
      " 1   1       99 non-null     int64         \n",
      "dtypes: datetime64[ns](1), int64(1)\n",
      "memory usage: 1.7 KB\n"
     ]
    }
   ],
   "source": [
    "test.info()"
   ]
  },
  {
   "cell_type": "code",
   "execution_count": 304,
   "id": "prime-sailing",
   "metadata": {},
   "outputs": [],
   "source": [
    "daybyday[0] = daybyday[0].astype('object')"
   ]
  },
  {
   "cell_type": "code",
   "execution_count": 337,
   "id": "noble-fellow",
   "metadata": {},
   "outputs": [
    {
     "name": "stdout",
     "output_type": "stream",
     "text": [
      "<class 'pandas.core.frame.DataFrame'>\n",
      "RangeIndex: 877695 entries, 0 to 877694\n",
      "Data columns (total 30 columns):\n",
      " #   Column       Non-Null Count   Dtype         \n",
      "---  ------       --------------   -----         \n",
      " 0   author       877695 non-null  object        \n",
      " 1   score        877695 non-null  int64         \n",
      " 2   selftext     877695 non-null  object        \n",
      " 3   time         877695 non-null  datetime64[ns]\n",
      " 4   title        877695 non-null  object        \n",
      " 5   url          877695 non-null  object        \n",
      " 6   day_of_week  877695 non-null  object        \n",
      " 7   day          877695 non-null  int64         \n",
      " 8   month        877695 non-null  int64         \n",
      " 9   year         877695 non-null  int64         \n",
      " 10  GME          877695 non-null  int64         \n",
      " 11  AMC          877695 non-null  int64         \n",
      " 12  NOK          877695 non-null  int64         \n",
      " 13  NAKED        877695 non-null  int64         \n",
      " 14  PLTR         877695 non-null  int64         \n",
      " 15  BB           877695 non-null  int64         \n",
      " 16  SLV          877695 non-null  int64         \n",
      " 17  RH           877695 non-null  int64         \n",
      " 18  APHA         877695 non-null  int64         \n",
      " 19  AMD          877695 non-null  int64         \n",
      " 20  AAC          877695 non-null  int64         \n",
      " 21  CCIV         877695 non-null  int64         \n",
      " 22  HODL         877695 non-null  int64         \n",
      " 23  BBBY         877695 non-null  int64         \n",
      " 24  ZOM          877695 non-null  int64         \n",
      " 25  APPLE        877695 non-null  int64         \n",
      " 26  SOS          877695 non-null  int64         \n",
      " 27  KOSS         877695 non-null  int64         \n",
      " 28  Amazon       877695 non-null  int64         \n",
      " 29  full_date    877695 non-null  datetime64[ns]\n",
      "dtypes: datetime64[ns](2), int64(23), object(5)\n",
      "memory usage: 200.9+ MB\n"
     ]
    }
   ],
   "source": [
    "reddit.info()"
   ]
  },
  {
   "cell_type": "code",
   "execution_count": 358,
   "id": "herbal-yorkshire",
   "metadata": {},
   "outputs": [
    {
     "data": {
      "text/html": [
       "<div>\n",
       "<style scoped>\n",
       "    .dataframe tbody tr th:only-of-type {\n",
       "        vertical-align: middle;\n",
       "    }\n",
       "\n",
       "    .dataframe tbody tr th {\n",
       "        vertical-align: top;\n",
       "    }\n",
       "\n",
       "    .dataframe thead th {\n",
       "        text-align: right;\n",
       "    }\n",
       "</style>\n",
       "<table border=\"1\" class=\"dataframe\">\n",
       "  <thead>\n",
       "    <tr style=\"text-align: right;\">\n",
       "      <th></th>\n",
       "      <th>GME</th>\n",
       "      <th>AMC</th>\n",
       "      <th>NOK</th>\n",
       "      <th>NAKED</th>\n",
       "      <th>PLTR</th>\n",
       "      <th>BB</th>\n",
       "      <th>SLV</th>\n",
       "      <th>RH</th>\n",
       "      <th>APHA</th>\n",
       "      <th>AMD</th>\n",
       "      <th>AAC</th>\n",
       "      <th>CCIV</th>\n",
       "      <th>HODL</th>\n",
       "      <th>BBBY</th>\n",
       "      <th>ZOM</th>\n",
       "      <th>APPLE</th>\n",
       "      <th>SOS</th>\n",
       "      <th>KOSS</th>\n",
       "      <th>Amazon</th>\n",
       "    </tr>\n",
       "    <tr>\n",
       "      <th>full_date</th>\n",
       "      <th></th>\n",
       "      <th></th>\n",
       "      <th></th>\n",
       "      <th></th>\n",
       "      <th></th>\n",
       "      <th></th>\n",
       "      <th></th>\n",
       "      <th></th>\n",
       "      <th></th>\n",
       "      <th></th>\n",
       "      <th></th>\n",
       "      <th></th>\n",
       "      <th></th>\n",
       "      <th></th>\n",
       "      <th></th>\n",
       "      <th></th>\n",
       "      <th></th>\n",
       "      <th></th>\n",
       "      <th></th>\n",
       "    </tr>\n",
       "  </thead>\n",
       "  <tbody>\n",
       "    <tr>\n",
       "      <th>2021-01-01</th>\n",
       "      <td>8904</td>\n",
       "      <td>389</td>\n",
       "      <td>0</td>\n",
       "      <td>0</td>\n",
       "      <td>8856</td>\n",
       "      <td>0</td>\n",
       "      <td>0</td>\n",
       "      <td>0</td>\n",
       "      <td>0</td>\n",
       "      <td>0</td>\n",
       "      <td>0</td>\n",
       "      <td>0</td>\n",
       "      <td>0</td>\n",
       "      <td>260</td>\n",
       "      <td>0</td>\n",
       "      <td>0</td>\n",
       "      <td>0</td>\n",
       "      <td>0</td>\n",
       "      <td>0</td>\n",
       "    </tr>\n",
       "    <tr>\n",
       "      <th>2021-01-02</th>\n",
       "      <td>30642</td>\n",
       "      <td>1041</td>\n",
       "      <td>0</td>\n",
       "      <td>0</td>\n",
       "      <td>20245</td>\n",
       "      <td>0</td>\n",
       "      <td>0</td>\n",
       "      <td>0</td>\n",
       "      <td>0</td>\n",
       "      <td>178</td>\n",
       "      <td>0</td>\n",
       "      <td>0</td>\n",
       "      <td>0</td>\n",
       "      <td>1154</td>\n",
       "      <td>0</td>\n",
       "      <td>0</td>\n",
       "      <td>0</td>\n",
       "      <td>0</td>\n",
       "      <td>14</td>\n",
       "    </tr>\n",
       "    <tr>\n",
       "      <th>2021-01-03</th>\n",
       "      <td>44056</td>\n",
       "      <td>1825</td>\n",
       "      <td>0</td>\n",
       "      <td>0</td>\n",
       "      <td>33398</td>\n",
       "      <td>0</td>\n",
       "      <td>0</td>\n",
       "      <td>0</td>\n",
       "      <td>0</td>\n",
       "      <td>1172</td>\n",
       "      <td>0</td>\n",
       "      <td>0</td>\n",
       "      <td>0</td>\n",
       "      <td>1172</td>\n",
       "      <td>0</td>\n",
       "      <td>0</td>\n",
       "      <td>0</td>\n",
       "      <td>0</td>\n",
       "      <td>1560</td>\n",
       "    </tr>\n",
       "    <tr>\n",
       "      <th>2021-01-04</th>\n",
       "      <td>129345</td>\n",
       "      <td>5490</td>\n",
       "      <td>0</td>\n",
       "      <td>0</td>\n",
       "      <td>101231</td>\n",
       "      <td>0</td>\n",
       "      <td>0</td>\n",
       "      <td>0</td>\n",
       "      <td>0</td>\n",
       "      <td>3212</td>\n",
       "      <td>0</td>\n",
       "      <td>0</td>\n",
       "      <td>0</td>\n",
       "      <td>2196</td>\n",
       "      <td>1230</td>\n",
       "      <td>0</td>\n",
       "      <td>0</td>\n",
       "      <td>0</td>\n",
       "      <td>8587</td>\n",
       "    </tr>\n",
       "    <tr>\n",
       "      <th>2021-01-05</th>\n",
       "      <td>181609</td>\n",
       "      <td>5340</td>\n",
       "      <td>0</td>\n",
       "      <td>0</td>\n",
       "      <td>127141</td>\n",
       "      <td>0</td>\n",
       "      <td>623</td>\n",
       "      <td>836</td>\n",
       "      <td>0</td>\n",
       "      <td>4363</td>\n",
       "      <td>0</td>\n",
       "      <td>0</td>\n",
       "      <td>0</td>\n",
       "      <td>3015</td>\n",
       "      <td>4012</td>\n",
       "      <td>0</td>\n",
       "      <td>0</td>\n",
       "      <td>0</td>\n",
       "      <td>9211</td>\n",
       "    </tr>\n",
       "    <tr>\n",
       "      <th>...</th>\n",
       "      <td>...</td>\n",
       "      <td>...</td>\n",
       "      <td>...</td>\n",
       "      <td>...</td>\n",
       "      <td>...</td>\n",
       "      <td>...</td>\n",
       "      <td>...</td>\n",
       "      <td>...</td>\n",
       "      <td>...</td>\n",
       "      <td>...</td>\n",
       "      <td>...</td>\n",
       "      <td>...</td>\n",
       "      <td>...</td>\n",
       "      <td>...</td>\n",
       "      <td>...</td>\n",
       "      <td>...</td>\n",
       "      <td>...</td>\n",
       "      <td>...</td>\n",
       "      <td>...</td>\n",
       "    </tr>\n",
       "    <tr>\n",
       "      <th>2021-04-22</th>\n",
       "      <td>154689794</td>\n",
       "      <td>66233833</td>\n",
       "      <td>22952952</td>\n",
       "      <td>114026</td>\n",
       "      <td>4525189</td>\n",
       "      <td>3486626</td>\n",
       "      <td>2857074</td>\n",
       "      <td>1222166</td>\n",
       "      <td>1153108</td>\n",
       "      <td>1082444</td>\n",
       "      <td>0</td>\n",
       "      <td>989296</td>\n",
       "      <td>969741</td>\n",
       "      <td>931480</td>\n",
       "      <td>876012</td>\n",
       "      <td>59422</td>\n",
       "      <td>835408</td>\n",
       "      <td>825484</td>\n",
       "      <td>801394</td>\n",
       "    </tr>\n",
       "    <tr>\n",
       "      <th>2021-04-23</th>\n",
       "      <td>148832549</td>\n",
       "      <td>63719875</td>\n",
       "      <td>22069324</td>\n",
       "      <td>109624</td>\n",
       "      <td>4355740</td>\n",
       "      <td>3352024</td>\n",
       "      <td>2746776</td>\n",
       "      <td>1174984</td>\n",
       "      <td>1109574</td>\n",
       "      <td>1049148</td>\n",
       "      <td>0</td>\n",
       "      <td>951452</td>\n",
       "      <td>937049</td>\n",
       "      <td>895520</td>\n",
       "      <td>844489</td>\n",
       "      <td>57128</td>\n",
       "      <td>804424</td>\n",
       "      <td>793616</td>\n",
       "      <td>770456</td>\n",
       "    </tr>\n",
       "    <tr>\n",
       "      <th>2021-04-24</th>\n",
       "      <td>84090097</td>\n",
       "      <td>36001079</td>\n",
       "      <td>12464368</td>\n",
       "      <td>61912</td>\n",
       "      <td>2465182</td>\n",
       "      <td>1893112</td>\n",
       "      <td>1552463</td>\n",
       "      <td>663592</td>\n",
       "      <td>626968</td>\n",
       "      <td>594788</td>\n",
       "      <td>0</td>\n",
       "      <td>538024</td>\n",
       "      <td>530634</td>\n",
       "      <td>505760</td>\n",
       "      <td>476984</td>\n",
       "      <td>32264</td>\n",
       "      <td>454312</td>\n",
       "      <td>448208</td>\n",
       "      <td>436609</td>\n",
       "    </tr>\n",
       "    <tr>\n",
       "      <th>2021-04-25</th>\n",
       "      <td>88455394</td>\n",
       "      <td>37872494</td>\n",
       "      <td>13108186</td>\n",
       "      <td>65107</td>\n",
       "      <td>2594193</td>\n",
       "      <td>1990807</td>\n",
       "      <td>1633177</td>\n",
       "      <td>697837</td>\n",
       "      <td>659323</td>\n",
       "      <td>627928</td>\n",
       "      <td>0</td>\n",
       "      <td>565789</td>\n",
       "      <td>559109</td>\n",
       "      <td>531860</td>\n",
       "      <td>502491</td>\n",
       "      <td>33929</td>\n",
       "      <td>477757</td>\n",
       "      <td>471338</td>\n",
       "      <td>459417</td>\n",
       "    </tr>\n",
       "    <tr>\n",
       "      <th>2021-04-26</th>\n",
       "      <td>130277354</td>\n",
       "      <td>55788011</td>\n",
       "      <td>19299600</td>\n",
       "      <td>95850</td>\n",
       "      <td>3821968</td>\n",
       "      <td>2930850</td>\n",
       "      <td>2404350</td>\n",
       "      <td>1027350</td>\n",
       "      <td>971799</td>\n",
       "      <td>929681</td>\n",
       "      <td>0</td>\n",
       "      <td>834670</td>\n",
       "      <td>832194</td>\n",
       "      <td>783000</td>\n",
       "      <td>740783</td>\n",
       "      <td>49950</td>\n",
       "      <td>704276</td>\n",
       "      <td>693900</td>\n",
       "      <td>677738</td>\n",
       "    </tr>\n",
       "  </tbody>\n",
       "</table>\n",
       "<p>99 rows × 19 columns</p>\n",
       "</div>"
      ],
      "text/plain": [
       "                  GME       AMC       NOK   NAKED     PLTR       BB      SLV  \\\n",
       "full_date                                                                      \n",
       "2021-01-01       8904       389         0       0     8856        0        0   \n",
       "2021-01-02      30642      1041         0       0    20245        0        0   \n",
       "2021-01-03      44056      1825         0       0    33398        0        0   \n",
       "2021-01-04     129345      5490         0       0   101231        0        0   \n",
       "2021-01-05     181609      5340         0       0   127141        0      623   \n",
       "...               ...       ...       ...     ...      ...      ...      ...   \n",
       "2021-04-22  154689794  66233833  22952952  114026  4525189  3486626  2857074   \n",
       "2021-04-23  148832549  63719875  22069324  109624  4355740  3352024  2746776   \n",
       "2021-04-24   84090097  36001079  12464368   61912  2465182  1893112  1552463   \n",
       "2021-04-25   88455394  37872494  13108186   65107  2594193  1990807  1633177   \n",
       "2021-04-26  130277354  55788011  19299600   95850  3821968  2930850  2404350   \n",
       "\n",
       "                 RH     APHA      AMD  AAC    CCIV    HODL    BBBY     ZOM  \\\n",
       "full_date                                                                    \n",
       "2021-01-01        0        0        0    0       0       0     260       0   \n",
       "2021-01-02        0        0      178    0       0       0    1154       0   \n",
       "2021-01-03        0        0     1172    0       0       0    1172       0   \n",
       "2021-01-04        0        0     3212    0       0       0    2196    1230   \n",
       "2021-01-05      836        0     4363    0       0       0    3015    4012   \n",
       "...             ...      ...      ...  ...     ...     ...     ...     ...   \n",
       "2021-04-22  1222166  1153108  1082444    0  989296  969741  931480  876012   \n",
       "2021-04-23  1174984  1109574  1049148    0  951452  937049  895520  844489   \n",
       "2021-04-24   663592   626968   594788    0  538024  530634  505760  476984   \n",
       "2021-04-25   697837   659323   627928    0  565789  559109  531860  502491   \n",
       "2021-04-26  1027350   971799   929681    0  834670  832194  783000  740783   \n",
       "\n",
       "            APPLE     SOS    KOSS  Amazon  \n",
       "full_date                                  \n",
       "2021-01-01      0       0       0       0  \n",
       "2021-01-02      0       0       0      14  \n",
       "2021-01-03      0       0       0    1560  \n",
       "2021-01-04      0       0       0    8587  \n",
       "2021-01-05      0       0       0    9211  \n",
       "...           ...     ...     ...     ...  \n",
       "2021-04-22  59422  835408  825484  801394  \n",
       "2021-04-23  57128  804424  793616  770456  \n",
       "2021-04-24  32264  454312  448208  436609  \n",
       "2021-04-25  33929  477757  471338  459417  \n",
       "2021-04-26  49950  704276  693900  677738  \n",
       "\n",
       "[99 rows x 19 columns]"
      ]
     },
     "execution_count": 358,
     "metadata": {},
     "output_type": "execute_result"
    }
   ],
   "source": [
    "test1 = reddit.groupby(['full_date']).agg({'GME':'sum', 'AMC':'sum', 'NOK':'sum', 'NAKED':'sum', 'PLTR':'sum', \n",
    "                                           'BB':'sum', 'SLV':'sum', 'RH':'sum', 'APHA':'sum', \n",
    "                                           'AMD':'sum', 'AAC':'sum','CCIV':'sum', 'HODL':'sum', 'BBBY':'sum', \n",
    "                                           'ZOM':'sum', 'APPLE':'sum', 'SOS':'sum', 'KOSS':'sum', 'Amazon':'sum'})\n",
    "test1"
   ]
  },
  {
   "cell_type": "code",
   "execution_count": 365,
   "id": "quick-entrepreneur",
   "metadata": {},
   "outputs": [
    {
     "data": {
      "text/plain": [
       "Text(0.5, 1.0, '2021-01-01 mentions of stocks on wallstreetbets')"
      ]
     },
     "execution_count": 365,
     "metadata": {},
     "output_type": "execute_result"
    },
    {
     "data": {
      "image/png": "[encoded data removed]",
      "text/plain": [
       "<Figure size 432x288 with 1 Axes>"
      ]
     },
     "metadata": {},
     "output_type": "display_data"
    }
   ],
   "source": [
    "row = test1.loc['2021-01-01']\n",
    "row = row[row>0]\n",
    "row = row.sort_values()\n",
    "row.plot(kind = 'barh')\n",
    "plt.title('2021-01-01 mentions of stocks on wallstreetbets')"
   ]
  },
  {
   "cell_type": "code",
   "execution_count": 366,
   "id": "impressive-scroll",
   "metadata": {},
   "outputs": [],
   "source": [
    "def daily_mention_grapher(date):\n",
    "    row = test1.loc[date]\n",
    "    row = row[row>0]\n",
    "    row = row.sort_values()\n",
    "    row.plot(kind = 'barh')\n",
    "    plt.title('2021-01-01 mentions of stocks on wallstreetbets')"
   ]
  },
  {
   "cell_type": "code",
   "execution_count": 369,
   "id": "correct-option",
   "metadata": {},
   "outputs": [
    {
     "data": {
      "image/png": "[encoded data removed]",
      "text/plain": [
       "<Figure size 432x288 with 1 Axes>"
      ]
     },
     "metadata": {},
     "output_type": "display_data"
    }
   ],
   "source": [
    "daily_mention_grapher('2021-03-04')"
   ]
  },
  {
   "cell_type": "code",
   "execution_count": 372,
   "id": "retired-desire",
   "metadata": {},
   "outputs": [],
   "source": [
    "from nltk.sentiment.vader import SentimentIntensityAnalyzer as SIA"
   ]
  },
  {
   "cell_type": "code",
   "execution_count": 375,
   "id": "exact-metro",
   "metadata": {},
   "outputs": [
    {
     "name": "stderr",
     "output_type": "stream",
     "text": [
      "[nltk_data] Downloading package vader_lexicon to\n",
      "[nltk_data]     C:\\Users\\brian\\AppData\\Roaming\\nltk_data...\n"
     ]
    },
    {
     "data": {
      "text/plain": [
       "True"
      ]
     },
     "execution_count": 375,
     "metadata": {},
     "output_type": "execute_result"
    }
   ],
   "source": [
    "import nltk\n",
    "nltk.download('vader_lexicon')"
   ]
  },
  {
   "cell_type": "code",
   "execution_count": 376,
   "id": "suspended-faculty",
   "metadata": {},
   "outputs": [
    {
     "name": "stdout",
     "output_type": "stream",
     "text": [
      "[{'neg': 0.0, 'neu': 0.53, 'pos': 0.47, 'compound': 0.7351, 'title': 'Best Plays for January 2021 - Don’t ask for proof'}, {'neg': 0.161, 'neu': 0.629, 'pos': 0.21, 'compound': 0.1779, 'title': \"ahahaha awards are stupidz burning mine, smh. I'm snort you dum\"}, {'neg': 0.0, 'neu': 1.0, 'pos': 0.0, 'compound': 0.0, 'title': 'RYCEY Stock'}, {'neg': 0.287, 'neu': 0.37, 'pos': 0.343, 'compound': 0.1531, 'title': 'Happy New Year you Degenerate fucks'}, {'neg': 0.189, 'neu': 0.811, 'pos': 0.0, 'compound': -0.2732, 'title': 'PLTR: How much will it drop before rocketing again? 🚀🚀🚀'}, {'neg': 0.0, 'neu': 0.655, 'pos': 0.345, 'compound': 0.875, 'title': 'THE ONLY pure play for feeding China on the Nasdaq. 3 mil float. 5 mil outstanding. $Seed is a company that will get you rich.'}, {'neg': 0.0, 'neu': 1.0, 'pos': 0.0, 'compound': 0.0, 'title': 'ARKG + SPAC? Take My Money Immediately 🚀'}, {'neg': 0.126, 'neu': 0.683, 'pos': 0.191, 'compound': 0.2263, 'title': 'Lets hope that during the new year retarded posts won’t be awarded by a bunch of ternions and instead people will invest in TSLA'}, {'neg': 0.0, 'neu': 0.667, 'pos': 0.333, 'compound': 0.7906, 'title': 'PLTR bull tries to flex the Reddit karma he gained by posting a PLTR bull at a party meme during a party.'}, {'neg': 0.0, 'neu': 0.592, 'pos': 0.408, 'compound': 0.784, 'title': 'Happy new year ! Funny that the only green one is the gilead.'}]\n"
     ]
    }
   ],
   "source": [
    "sia = SIA()\n",
    "results = []\n",
    "for title in df1['title'].head(10):\n",
    "    pol_score = sia.polarity_scores(title)\n",
    "    pol_score['title'] = title\n",
    "    results.append(pol_score)\n",
    "\n",
    "print(results)"
   ]
  },
  {
   "cell_type": "code",
   "execution_count": 377,
   "id": "personalized-decrease",
   "metadata": {},
   "outputs": [
    {
     "data": {
      "text/html": [
       "<div>\n",
       "<style scoped>\n",
       "    .dataframe tbody tr th:only-of-type {\n",
       "        vertical-align: middle;\n",
       "    }\n",
       "\n",
       "    .dataframe tbody tr th {\n",
       "        vertical-align: top;\n",
       "    }\n",
       "\n",
       "    .dataframe thead th {\n",
       "        text-align: right;\n",
       "    }\n",
       "</style>\n",
       "<table border=\"1\" class=\"dataframe\">\n",
       "  <thead>\n",
       "    <tr style=\"text-align: right;\">\n",
       "      <th></th>\n",
       "      <th>neg</th>\n",
       "      <th>neu</th>\n",
       "      <th>pos</th>\n",
       "      <th>compound</th>\n",
       "      <th>title</th>\n",
       "    </tr>\n",
       "  </thead>\n",
       "  <tbody>\n",
       "    <tr>\n",
       "      <th>0</th>\n",
       "      <td>0.000</td>\n",
       "      <td>0.530</td>\n",
       "      <td>0.470</td>\n",
       "      <td>0.7351</td>\n",
       "      <td>Best Plays for January 2021 - Don’t ask for proof</td>\n",
       "    </tr>\n",
       "    <tr>\n",
       "      <th>1</th>\n",
       "      <td>0.161</td>\n",
       "      <td>0.629</td>\n",
       "      <td>0.210</td>\n",
       "      <td>0.1779</td>\n",
       "      <td>ahahaha awards are stupidz burning mine, smh. ...</td>\n",
       "    </tr>\n",
       "    <tr>\n",
       "      <th>2</th>\n",
       "      <td>0.000</td>\n",
       "      <td>1.000</td>\n",
       "      <td>0.000</td>\n",
       "      <td>0.0000</td>\n",
       "      <td>RYCEY Stock</td>\n",
       "    </tr>\n",
       "    <tr>\n",
       "      <th>3</th>\n",
       "      <td>0.287</td>\n",
       "      <td>0.370</td>\n",
       "      <td>0.343</td>\n",
       "      <td>0.1531</td>\n",
       "      <td>Happy New Year you Degenerate fucks</td>\n",
       "    </tr>\n",
       "    <tr>\n",
       "      <th>4</th>\n",
       "      <td>0.189</td>\n",
       "      <td>0.811</td>\n",
       "      <td>0.000</td>\n",
       "      <td>-0.2732</td>\n",
       "      <td>PLTR: How much will it drop before rocketing a...</td>\n",
       "    </tr>\n",
       "    <tr>\n",
       "      <th>5</th>\n",
       "      <td>0.000</td>\n",
       "      <td>0.655</td>\n",
       "      <td>0.345</td>\n",
       "      <td>0.8750</td>\n",
       "      <td>THE ONLY pure play for feeding China on the Na...</td>\n",
       "    </tr>\n",
       "    <tr>\n",
       "      <th>6</th>\n",
       "      <td>0.000</td>\n",
       "      <td>1.000</td>\n",
       "      <td>0.000</td>\n",
       "      <td>0.0000</td>\n",
       "      <td>ARKG + SPAC? Take My Money Immediately 🚀</td>\n",
       "    </tr>\n",
       "    <tr>\n",
       "      <th>7</th>\n",
       "      <td>0.126</td>\n",
       "      <td>0.683</td>\n",
       "      <td>0.191</td>\n",
       "      <td>0.2263</td>\n",
       "      <td>Lets hope that during the new year retarded po...</td>\n",
       "    </tr>\n",
       "    <tr>\n",
       "      <th>8</th>\n",
       "      <td>0.000</td>\n",
       "      <td>0.667</td>\n",
       "      <td>0.333</td>\n",
       "      <td>0.7906</td>\n",
       "      <td>PLTR bull tries to flex the Reddit karma he ga...</td>\n",
       "    </tr>\n",
       "    <tr>\n",
       "      <th>9</th>\n",
       "      <td>0.000</td>\n",
       "      <td>0.592</td>\n",
       "      <td>0.408</td>\n",
       "      <td>0.7840</td>\n",
       "      <td>Happy new year ! Funny that the only green one...</td>\n",
       "    </tr>\n",
       "  </tbody>\n",
       "</table>\n",
       "</div>"
      ],
      "text/plain": [
       "     neg    neu    pos  compound  \\\n",
       "0  0.000  0.530  0.470    0.7351   \n",
       "1  0.161  0.629  0.210    0.1779   \n",
       "2  0.000  1.000  0.000    0.0000   \n",
       "3  0.287  0.370  0.343    0.1531   \n",
       "4  0.189  0.811  0.000   -0.2732   \n",
       "5  0.000  0.655  0.345    0.8750   \n",
       "6  0.000  1.000  0.000    0.0000   \n",
       "7  0.126  0.683  0.191    0.2263   \n",
       "8  0.000  0.667  0.333    0.7906   \n",
       "9  0.000  0.592  0.408    0.7840   \n",
       "\n",
       "                                               title  \n",
       "0  Best Plays for January 2021 - Don’t ask for proof  \n",
       "1  ahahaha awards are stupidz burning mine, smh. ...  \n",
       "2                                        RYCEY Stock  \n",
       "3                Happy New Year you Degenerate fucks  \n",
       "4  PLTR: How much will it drop before rocketing a...  \n",
       "5  THE ONLY pure play for feeding China on the Na...  \n",
       "6           ARKG + SPAC? Take My Money Immediately 🚀  \n",
       "7  Lets hope that during the new year retarded po...  \n",
       "8  PLTR bull tries to flex the Reddit karma he ga...  \n",
       "9  Happy new year ! Funny that the only green one...  "
      ]
     },
     "execution_count": 377,
     "metadata": {},
     "output_type": "execute_result"
    }
   ],
   "source": [
    "df = pd.DataFrame.from_records(results)\n",
    "df"
   ]
  },
  {
   "cell_type": "code",
   "execution_count": 378,
   "id": "suffering-value",
   "metadata": {},
   "outputs": [
    {
     "data": {
      "text/plain": [
       "'Best Plays for January 2021 - Don’t ask for proof'"
      ]
     },
     "execution_count": 378,
     "metadata": {},
     "output_type": "execute_result"
    }
   ],
   "source": [
    "df['title'][0]"
   ]
  },
  {
   "cell_type": "code",
   "execution_count": 380,
   "id": "optical-newport",
   "metadata": {},
   "outputs": [
    {
     "data": {
      "text/plain": [
       "'Happy new year ! Funny that the only green one is the gilead.'"
      ]
     },
     "execution_count": 380,
     "metadata": {},
     "output_type": "execute_result"
    }
   ],
   "source": [
    "df['title'][9]"
   ]
  },
  {
   "cell_type": "code",
   "execution_count": 387,
   "id": "guilty-italy",
   "metadata": {},
   "outputs": [
    {
     "data": {
      "text/plain": [
       "Timestamp('2021-04-26 00:00:00')"
      ]
     },
     "execution_count": 387,
     "metadata": {},
     "output_type": "execute_result"
    }
   ],
   "source": [
    "daybyday[0].max()"
   ]
  },
  {
   "cell_type": "code",
   "execution_count": 388,
   "id": "challenging-questionnaire",
   "metadata": {},
   "outputs": [
    {
     "name": "stdout",
     "output_type": "stream",
     "text": [
      "<class 'pandas.core.frame.DataFrame'>\n",
      "RangeIndex: 99 entries, 0 to 98\n",
      "Data columns (total 2 columns):\n",
      " #   Column  Non-Null Count  Dtype \n",
      "---  ------  --------------  ----- \n",
      " 0   0       99 non-null     object\n",
      " 1   1       99 non-null     int64 \n",
      "dtypes: int64(1), object(1)\n",
      "memory usage: 1.7+ KB\n"
     ]
    }
   ],
   "source": [
    "daybyday.info()"
   ]
  },
  {
   "cell_type": "code",
   "execution_count": 390,
   "id": "deadly-minute",
   "metadata": {},
   "outputs": [
    {
     "ename": "AttributeError",
     "evalue": "'Series' object has no attribute 'to_datetime'",
     "output_type": "error",
     "traceback": [
      "\u001b[1;31m---------------------------------------------------------------------------\u001b[0m",
      "\u001b[1;31mAttributeError\u001b[0m                            Traceback (most recent call last)",
      "\u001b[1;32m<ipython-input-390-141a1935b61c>\u001b[0m in \u001b[0;36m<module>\u001b[1;34m\u001b[0m\n\u001b[1;32m----> 1\u001b[1;33m \u001b[0mdaybyday\u001b[0m\u001b[1;33m[\u001b[0m\u001b[1;34m'full_date'\u001b[0m\u001b[1;33m]\u001b[0m \u001b[1;33m=\u001b[0m \u001b[0mdaybyday\u001b[0m\u001b[1;33m[\u001b[0m\u001b[1;36m0\u001b[0m\u001b[1;33m]\u001b[0m\u001b[1;33m.\u001b[0m\u001b[0mto_datetime\u001b[0m\u001b[1;33m\u001b[0m\u001b[1;33m\u001b[0m\u001b[0m\n\u001b[0m",
      "\u001b[1;32m~\\.conda\\envs\\metis\\lib\\site-packages\\pandas\\core\\generic.py\u001b[0m in \u001b[0;36m__getattr__\u001b[1;34m(self, name)\u001b[0m\n\u001b[0;32m   5463\u001b[0m             \u001b[1;32mif\u001b[0m \u001b[0mself\u001b[0m\u001b[1;33m.\u001b[0m\u001b[0m_info_axis\u001b[0m\u001b[1;33m.\u001b[0m\u001b[0m_can_hold_identifiers_and_holds_name\u001b[0m\u001b[1;33m(\u001b[0m\u001b[0mname\u001b[0m\u001b[1;33m)\u001b[0m\u001b[1;33m:\u001b[0m\u001b[1;33m\u001b[0m\u001b[1;33m\u001b[0m\u001b[0m\n\u001b[0;32m   5464\u001b[0m                 \u001b[1;32mreturn\u001b[0m \u001b[0mself\u001b[0m\u001b[1;33m[\u001b[0m\u001b[0mname\u001b[0m\u001b[1;33m]\u001b[0m\u001b[1;33m\u001b[0m\u001b[1;33m\u001b[0m\u001b[0m\n\u001b[1;32m-> 5465\u001b[1;33m             \u001b[1;32mreturn\u001b[0m \u001b[0mobject\u001b[0m\u001b[1;33m.\u001b[0m\u001b[0m__getattribute__\u001b[0m\u001b[1;33m(\u001b[0m\u001b[0mself\u001b[0m\u001b[1;33m,\u001b[0m \u001b[0mname\u001b[0m\u001b[1;33m)\u001b[0m\u001b[1;33m\u001b[0m\u001b[1;33m\u001b[0m\u001b[0m\n\u001b[0m\u001b[0;32m   5466\u001b[0m \u001b[1;33m\u001b[0m\u001b[0m\n\u001b[0;32m   5467\u001b[0m     \u001b[1;32mdef\u001b[0m \u001b[0m__setattr__\u001b[0m\u001b[1;33m(\u001b[0m\u001b[0mself\u001b[0m\u001b[1;33m,\u001b[0m \u001b[0mname\u001b[0m\u001b[1;33m:\u001b[0m \u001b[0mstr\u001b[0m\u001b[1;33m,\u001b[0m \u001b[0mvalue\u001b[0m\u001b[1;33m)\u001b[0m \u001b[1;33m->\u001b[0m \u001b[1;32mNone\u001b[0m\u001b[1;33m:\u001b[0m\u001b[1;33m\u001b[0m\u001b[1;33m\u001b[0m\u001b[0m\n",
      "\u001b[1;31mAttributeError\u001b[0m: 'Series' object has no attribute 'to_datetime'"
     ]
    }
   ],
   "source": [
    "daybyday['full_date'] = daybyday[0].to_datetime"
   ]
  },
  {
   "cell_type": "code",
   "execution_count": null,
   "id": "ruled-thomas",
   "metadata": {},
   "outputs": [],
   "source": [
    "df['date_only'] = df['date_time_column'].dt.date"
   ]
  }
 ],
 "metadata": {
  "kernelspec": {
   "display_name": "Python [conda env:.conda-metis] *",
   "language": "python",
   "name": "conda-env-.conda-metis-py"
  },
  "language_info": {
   "codemirror_mode": {
    "name": "ipython",
    "version": 3
   },
   "file_extension": ".py",
   "mimetype": "text/x-python",
   "name": "python",
   "nbconvert_exporter": "python",
   "pygments_lexer": "ipython3",
   "version": "3.8.8"
  }
 },
 "nbformat": 4,
 "nbformat_minor": 5
}
